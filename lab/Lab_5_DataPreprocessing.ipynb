{
  "cells": [
    {
      "cell_type": "markdown",
      "metadata": {
        "id": "1FncgpjarECS"
      },
      "source": [
        "# Data Preprocessing\n"
      ]
    },
    {
      "cell_type": "markdown",
      "metadata": {
        "id": "iZ4f3WAPrECT"
      },
      "source": [
        "## Mean Computation"
      ]
    },
    {
      "cell_type": "markdown",
      "metadata": {
        "id": "UU2KYxWkrECT"
      },
      "source": [
        "The mean() is a built-in Python statistics module function used to calculate the average of numbers and lists. The mean() returns the mean of the data set passed as parameters. To use the mean() method in the Python program, import the Python statistics module, and then we can use the mean function to return the mean of the given list. See the following example."
      ]
    },
    {
      "cell_type": "code",
      "execution_count": 1,
      "metadata": {
        "colab": {
          "base_uri": "https://localhost:8080/"
        },
        "id": "WWHwu5iSrECU",
        "outputId": "eee2df3c-d4cc-4cd0-f621-716d73b58b8d"
      },
      "outputs": [
        {
          "name": "stdout",
          "output_type": "stream",
          "text": [
            "18.53846153846154\n",
            "19\n",
            "11\n",
            "10.611435534486562\n",
            "112.6025641025641\n"
          ]
        }
      ],
      "source": [
        "import statistics\n",
        "\n",
        "data = [11, 21, 11, 19, 46, 21, 19, 29, 21, 18, 3, 11, 11]\n",
        "\n",
        "x = statistics.mean(data)\n",
        "print(x)\n",
        "\n",
        "y = statistics.median(data)\n",
        "print(y)\n",
        "\n",
        "z = statistics.mode(data)\n",
        "print(z)\n",
        "\n",
        "a = statistics.stdev(data)\n",
        "print(a)\n",
        "\n",
        "b = statistics.variance(data)\n",
        "print(b)"
      ]
    },
    {
      "cell_type": "markdown",
      "metadata": {
        "id": "DhKtqK7jrECV"
      },
      "source": [
        "Using numpy.mean() function\n",
        "NumPy.mean() function returns the average of the array elements. The average is taken over the flattened array by default, otherwise over the specified axis.\n",
        "\n",
        "Numpy library is a commonly used library to work on large multi-dimensional arrays. It also has an extensive collection of mathematical functions to be used on arrays to perform various tasks. One important thing to note here is that the mean() function will give us the average for the list given.\n"
      ]
    },
    {
      "cell_type": "code",
      "execution_count": 2,
      "metadata": {
        "colab": {
          "base_uri": "https://localhost:8080/"
        },
        "id": "sP-16uVgrECV",
        "outputId": "b24caee4-e5f3-4fdf-9945-240ab30d28a4"
      },
      "outputs": [
        {
          "name": "stdout",
          "output_type": "stream",
          "text": [
            "The average of List is  23.0\n"
          ]
        }
      ],
      "source": [
        "from numpy import mean\n",
        "number_list = [19, 21, 46, 11, 18]\n",
        "avg = mean(number_list)\n",
        "print(\"The average of List is \", round(avg, 2))"
      ]
    },
    {
      "cell_type": "markdown",
      "metadata": {
        "id": "gFI7y0QrrECV"
      },
      "source": [
        "## Imputation "
      ]
    },
    {
      "cell_type": "markdown",
      "metadata": {
        "id": "bS2ug8gSrECW"
      },
      "source": [
        "### Examples"
      ]
    },
    {
      "cell_type": "code",
      "execution_count": 3,
      "metadata": {
        "colab": {
          "base_uri": "https://localhost:8080/",
          "height": 300
        },
        "id": "q5khVgDZrECW",
        "outputId": "5da2c7a0-c733-4f30-b83e-ce0cfeca4dd3"
      },
      "outputs": [
        {
          "data": {
            "text/html": [
              "<div>\n",
              "<style scoped>\n",
              "    .dataframe tbody tr th:only-of-type {\n",
              "        vertical-align: middle;\n",
              "    }\n",
              "\n",
              "    .dataframe tbody tr th {\n",
              "        vertical-align: top;\n",
              "    }\n",
              "\n",
              "    .dataframe thead th {\n",
              "        text-align: right;\n",
              "    }\n",
              "</style>\n",
              "<table border=\"1\" class=\"dataframe\">\n",
              "  <thead>\n",
              "    <tr style=\"text-align: right;\">\n",
              "      <th></th>\n",
              "      <th>A</th>\n",
              "      <th>B</th>\n",
              "      <th>C</th>\n",
              "      <th>D</th>\n",
              "    </tr>\n",
              "  </thead>\n",
              "  <tbody>\n",
              "    <tr>\n",
              "      <th>0</th>\n",
              "      <td>1</td>\n",
              "      <td>2.0</td>\n",
              "      <td>3.0</td>\n",
              "      <td>'Good'</td>\n",
              "    </tr>\n",
              "    <tr>\n",
              "      <th>1</th>\n",
              "      <td>4</td>\n",
              "      <td>NaN</td>\n",
              "      <td>6.0</td>\n",
              "      <td>'Good'</td>\n",
              "    </tr>\n",
              "    <tr>\n",
              "      <th>2</th>\n",
              "      <td>7</td>\n",
              "      <td>NaN</td>\n",
              "      <td>9.0</td>\n",
              "      <td>'Excellent'</td>\n",
              "    </tr>\n",
              "    <tr>\n",
              "      <th>3</th>\n",
              "      <td>10</td>\n",
              "      <td>11.0</td>\n",
              "      <td>12.0</td>\n",
              "      <td>NaN</td>\n",
              "    </tr>\n",
              "    <tr>\n",
              "      <th>4</th>\n",
              "      <td>13</td>\n",
              "      <td>14.0</td>\n",
              "      <td>15.0</td>\n",
              "      <td>'Excellent'</td>\n",
              "    </tr>\n",
              "    <tr>\n",
              "      <th>5</th>\n",
              "      <td>16</td>\n",
              "      <td>17.0</td>\n",
              "      <td>NaN</td>\n",
              "      <td>'Fair'</td>\n",
              "    </tr>\n",
              "    <tr>\n",
              "      <th>6</th>\n",
              "      <td>19</td>\n",
              "      <td>12.0</td>\n",
              "      <td>12.0</td>\n",
              "      <td>'Excellent'</td>\n",
              "    </tr>\n",
              "    <tr>\n",
              "      <th>7</th>\n",
              "      <td>20</td>\n",
              "      <td>11.0</td>\n",
              "      <td>23.0</td>\n",
              "      <td>'Fair'</td>\n",
              "    </tr>\n",
              "  </tbody>\n",
              "</table>\n",
              "</div>"
            ],
            "text/plain": [
              "    A     B     C            D\n",
              "0   1   2.0   3.0       'Good'\n",
              "1   4   NaN   6.0       'Good'\n",
              "2   7   NaN   9.0  'Excellent'\n",
              "3  10  11.0  12.0          NaN\n",
              "4  13  14.0  15.0  'Excellent'\n",
              "5  16  17.0   NaN       'Fair'\n",
              "6  19  12.0  12.0  'Excellent'\n",
              "7  20  11.0  23.0       'Fair'"
            ]
          },
          "execution_count": 3,
          "metadata": {},
          "output_type": "execute_result"
        }
      ],
      "source": [
        "import numpy as np\n",
        "import pandas as pd\n",
        "df = pd.read_csv('../data/NanDataset.csv')\n",
        "df"
      ]
    },
    {
      "cell_type": "code",
      "execution_count": 4,
      "metadata": {
        "colab": {
          "base_uri": "https://localhost:8080/",
          "height": 300
        },
        "id": "evFJNC-UrECW",
        "outputId": "d01474bb-93b8-498e-904d-f968625abeff"
      },
      "outputs": [
        {
          "data": {
            "text/html": [
              "<div>\n",
              "<style scoped>\n",
              "    .dataframe tbody tr th:only-of-type {\n",
              "        vertical-align: middle;\n",
              "    }\n",
              "\n",
              "    .dataframe tbody tr th {\n",
              "        vertical-align: top;\n",
              "    }\n",
              "\n",
              "    .dataframe thead th {\n",
              "        text-align: right;\n",
              "    }\n",
              "</style>\n",
              "<table border=\"1\" class=\"dataframe\">\n",
              "  <thead>\n",
              "    <tr style=\"text-align: right;\">\n",
              "      <th></th>\n",
              "      <th>A</th>\n",
              "      <th>B</th>\n",
              "      <th>C</th>\n",
              "      <th>D</th>\n",
              "    </tr>\n",
              "  </thead>\n",
              "  <tbody>\n",
              "    <tr>\n",
              "      <th>0</th>\n",
              "      <td>1</td>\n",
              "      <td>2.000000</td>\n",
              "      <td>3.0</td>\n",
              "      <td>'Good'</td>\n",
              "    </tr>\n",
              "    <tr>\n",
              "      <th>1</th>\n",
              "      <td>4</td>\n",
              "      <td>11.166667</td>\n",
              "      <td>6.0</td>\n",
              "      <td>'Good'</td>\n",
              "    </tr>\n",
              "    <tr>\n",
              "      <th>2</th>\n",
              "      <td>7</td>\n",
              "      <td>11.166667</td>\n",
              "      <td>9.0</td>\n",
              "      <td>'Excellent'</td>\n",
              "    </tr>\n",
              "    <tr>\n",
              "      <th>3</th>\n",
              "      <td>10</td>\n",
              "      <td>11.000000</td>\n",
              "      <td>12.0</td>\n",
              "      <td>NaN</td>\n",
              "    </tr>\n",
              "    <tr>\n",
              "      <th>4</th>\n",
              "      <td>13</td>\n",
              "      <td>14.000000</td>\n",
              "      <td>15.0</td>\n",
              "      <td>'Excellent'</td>\n",
              "    </tr>\n",
              "    <tr>\n",
              "      <th>5</th>\n",
              "      <td>16</td>\n",
              "      <td>17.000000</td>\n",
              "      <td>NaN</td>\n",
              "      <td>'Fair'</td>\n",
              "    </tr>\n",
              "    <tr>\n",
              "      <th>6</th>\n",
              "      <td>19</td>\n",
              "      <td>12.000000</td>\n",
              "      <td>12.0</td>\n",
              "      <td>'Excellent'</td>\n",
              "    </tr>\n",
              "    <tr>\n",
              "      <th>7</th>\n",
              "      <td>20</td>\n",
              "      <td>11.000000</td>\n",
              "      <td>23.0</td>\n",
              "      <td>'Fair'</td>\n",
              "    </tr>\n",
              "  </tbody>\n",
              "</table>\n",
              "</div>"
            ],
            "text/plain": [
              "    A          B     C            D\n",
              "0   1   2.000000   3.0       'Good'\n",
              "1   4  11.166667   6.0       'Good'\n",
              "2   7  11.166667   9.0  'Excellent'\n",
              "3  10  11.000000  12.0          NaN\n",
              "4  13  14.000000  15.0  'Excellent'\n",
              "5  16  17.000000   NaN       'Fair'\n",
              "6  19  12.000000  12.0  'Excellent'\n",
              "7  20  11.000000  23.0       'Fair'"
            ]
          },
          "execution_count": 4,
          "metadata": {},
          "output_type": "execute_result"
        }
      ],
      "source": [
        "df['B'] = df['B'].fillna(df['B'].mean())\n",
        "df"
      ]
    },
    {
      "cell_type": "code",
      "execution_count": null,
      "metadata": {
        "colab": {
          "base_uri": "https://localhost:8080/",
          "height": 300
        },
        "id": "9BGcmdi3rECW",
        "outputId": "9c4c8931-53b1-4329-9fa5-aac857282498"
      },
      "outputs": [
        {
          "data": {
            "text/html": [
              "\n",
              "  <div id=\"df-d6e58429-3fe8-4ae6-9f19-23c96543929e\">\n",
              "    <div class=\"colab-df-container\">\n",
              "      <div>\n",
              "<style scoped>\n",
              "    .dataframe tbody tr th:only-of-type {\n",
              "        vertical-align: middle;\n",
              "    }\n",
              "\n",
              "    .dataframe tbody tr th {\n",
              "        vertical-align: top;\n",
              "    }\n",
              "\n",
              "    .dataframe thead th {\n",
              "        text-align: right;\n",
              "    }\n",
              "</style>\n",
              "<table border=\"1\" class=\"dataframe\">\n",
              "  <thead>\n",
              "    <tr style=\"text-align: right;\">\n",
              "      <th></th>\n",
              "      <th>A</th>\n",
              "      <th>B</th>\n",
              "      <th>C</th>\n",
              "      <th>D</th>\n",
              "    </tr>\n",
              "  </thead>\n",
              "  <tbody>\n",
              "    <tr>\n",
              "      <th>0</th>\n",
              "      <td>1</td>\n",
              "      <td>2.000000</td>\n",
              "      <td>3.0</td>\n",
              "      <td>'Good'</td>\n",
              "    </tr>\n",
              "    <tr>\n",
              "      <th>1</th>\n",
              "      <td>4</td>\n",
              "      <td>11.166667</td>\n",
              "      <td>6.0</td>\n",
              "      <td>'Good'</td>\n",
              "    </tr>\n",
              "    <tr>\n",
              "      <th>2</th>\n",
              "      <td>7</td>\n",
              "      <td>11.166667</td>\n",
              "      <td>9.0</td>\n",
              "      <td>'Excellent'</td>\n",
              "    </tr>\n",
              "    <tr>\n",
              "      <th>3</th>\n",
              "      <td>10</td>\n",
              "      <td>11.000000</td>\n",
              "      <td>12.0</td>\n",
              "      <td>'Excellent'</td>\n",
              "    </tr>\n",
              "    <tr>\n",
              "      <th>4</th>\n",
              "      <td>13</td>\n",
              "      <td>14.000000</td>\n",
              "      <td>15.0</td>\n",
              "      <td>'Excellent'</td>\n",
              "    </tr>\n",
              "    <tr>\n",
              "      <th>5</th>\n",
              "      <td>16</td>\n",
              "      <td>17.000000</td>\n",
              "      <td>NaN</td>\n",
              "      <td>'Fair'</td>\n",
              "    </tr>\n",
              "    <tr>\n",
              "      <th>6</th>\n",
              "      <td>19</td>\n",
              "      <td>12.000000</td>\n",
              "      <td>12.0</td>\n",
              "      <td>'Excellent'</td>\n",
              "    </tr>\n",
              "    <tr>\n",
              "      <th>7</th>\n",
              "      <td>20</td>\n",
              "      <td>11.000000</td>\n",
              "      <td>23.0</td>\n",
              "      <td>'Fair'</td>\n",
              "    </tr>\n",
              "  </tbody>\n",
              "</table>\n",
              "</div>\n",
              "      <button class=\"colab-df-convert\" onclick=\"convertToInteractive('df-d6e58429-3fe8-4ae6-9f19-23c96543929e')\"\n",
              "              title=\"Convert this dataframe to an interactive table.\"\n",
              "              style=\"display:none;\">\n",
              "        \n",
              "  <svg xmlns=\"http://www.w3.org/2000/svg\" height=\"24px\"viewBox=\"0 0 24 24\"\n",
              "       width=\"24px\">\n",
              "    <path d=\"M0 0h24v24H0V0z\" fill=\"none\"/>\n",
              "    <path d=\"M18.56 5.44l.94 2.06.94-2.06 2.06-.94-2.06-.94-.94-2.06-.94 2.06-2.06.94zm-11 1L8.5 8.5l.94-2.06 2.06-.94-2.06-.94L8.5 2.5l-.94 2.06-2.06.94zm10 10l.94 2.06.94-2.06 2.06-.94-2.06-.94-.94-2.06-.94 2.06-2.06.94z\"/><path d=\"M17.41 7.96l-1.37-1.37c-.4-.4-.92-.59-1.43-.59-.52 0-1.04.2-1.43.59L10.3 9.45l-7.72 7.72c-.78.78-.78 2.05 0 2.83L4 21.41c.39.39.9.59 1.41.59.51 0 1.02-.2 1.41-.59l7.78-7.78 2.81-2.81c.8-.78.8-2.07 0-2.86zM5.41 20L4 18.59l7.72-7.72 1.47 1.35L5.41 20z\"/>\n",
              "  </svg>\n",
              "      </button>\n",
              "      \n",
              "  <style>\n",
              "    .colab-df-container {\n",
              "      display:flex;\n",
              "      flex-wrap:wrap;\n",
              "      gap: 12px;\n",
              "    }\n",
              "\n",
              "    .colab-df-convert {\n",
              "      background-color: #E8F0FE;\n",
              "      border: none;\n",
              "      border-radius: 50%;\n",
              "      cursor: pointer;\n",
              "      display: none;\n",
              "      fill: #1967D2;\n",
              "      height: 32px;\n",
              "      padding: 0 0 0 0;\n",
              "      width: 32px;\n",
              "    }\n",
              "\n",
              "    .colab-df-convert:hover {\n",
              "      background-color: #E2EBFA;\n",
              "      box-shadow: 0px 1px 2px rgba(60, 64, 67, 0.3), 0px 1px 3px 1px rgba(60, 64, 67, 0.15);\n",
              "      fill: #174EA6;\n",
              "    }\n",
              "\n",
              "    [theme=dark] .colab-df-convert {\n",
              "      background-color: #3B4455;\n",
              "      fill: #D2E3FC;\n",
              "    }\n",
              "\n",
              "    [theme=dark] .colab-df-convert:hover {\n",
              "      background-color: #434B5C;\n",
              "      box-shadow: 0px 1px 3px 1px rgba(0, 0, 0, 0.15);\n",
              "      filter: drop-shadow(0px 1px 2px rgba(0, 0, 0, 0.3));\n",
              "      fill: #FFFFFF;\n",
              "    }\n",
              "  </style>\n",
              "\n",
              "      <script>\n",
              "        const buttonEl =\n",
              "          document.querySelector('#df-d6e58429-3fe8-4ae6-9f19-23c96543929e button.colab-df-convert');\n",
              "        buttonEl.style.display =\n",
              "          google.colab.kernel.accessAllowed ? 'block' : 'none';\n",
              "\n",
              "        async function convertToInteractive(key) {\n",
              "          const element = document.querySelector('#df-d6e58429-3fe8-4ae6-9f19-23c96543929e');\n",
              "          const dataTable =\n",
              "            await google.colab.kernel.invokeFunction('convertToInteractive',\n",
              "                                                     [key], {});\n",
              "          if (!dataTable) return;\n",
              "\n",
              "          const docLinkHtml = 'Like what you see? Visit the ' +\n",
              "            '<a target=\"_blank\" href=https://colab.research.google.com/notebooks/data_table.ipynb>data table notebook</a>'\n",
              "            + ' to learn more about interactive tables.';\n",
              "          element.innerHTML = '';\n",
              "          dataTable['output_type'] = 'display_data';\n",
              "          await google.colab.output.renderOutput(dataTable, element);\n",
              "          const docLink = document.createElement('div');\n",
              "          docLink.innerHTML = docLinkHtml;\n",
              "          element.appendChild(docLink);\n",
              "        }\n",
              "      </script>\n",
              "    </div>\n",
              "  </div>\n",
              "  "
            ],
            "text/plain": [
              "    A          B     C            D\n",
              "0   1   2.000000   3.0       'Good'\n",
              "1   4  11.166667   6.0       'Good'\n",
              "2   7  11.166667   9.0  'Excellent'\n",
              "3  10  11.000000  12.0  'Excellent'\n",
              "4  13  14.000000  15.0  'Excellent'\n",
              "5  16  17.000000   NaN       'Fair'\n",
              "6  19  12.000000  12.0  'Excellent'\n",
              "7  20  11.000000  23.0       'Fair'"
            ]
          },
          "execution_count": 48,
          "metadata": {},
          "output_type": "execute_result"
        }
      ],
      "source": [
        "df['D'] = df['D'].fillna(df['D'].value_counts().index[0])\n",
        "df"
      ]
    },
    {
      "cell_type": "markdown",
      "metadata": {
        "id": "0WmUpwOKrECW"
      },
      "source": [
        "## Data Preprocessing - Binning"
      ]
    },
    {
      "cell_type": "markdown",
      "metadata": {
        "id": "2vbAmlvHrECW"
      },
      "source": [
        "\n",
        "Data binning (or bucketing) groups data in bins (or buckets), in the sense that it replaces values contained into a small interval with a single representative value for that interval. Sometimes binning improves accuracy in predictive models.\n",
        "\n",
        "Data binning is a type of data preprocessing, a mechanism which includes also dealing with missing values, formatting, normalization and standardization.\n",
        "\n",
        "Binning can be applied to convert numeric values to categorical or to sample (quantise) numeric values. \n",
        "\n",
        "convert numeric to categorical includes binning by distance and binning by frequency\n",
        "reduce numeric values includes quantisation (or sampling).\n",
        "Binning is a technique for data smoothing. Data smoothing is employed to remove noise from data. Three techniques for data smoothing:\n",
        "\n",
        "binning\n",
        "regression\n",
        "outlier analysis\n"
      ]
    },
    {
      "cell_type": "code",
      "execution_count": 5,
      "metadata": {
        "colab": {
          "base_uri": "https://localhost:8080/",
          "height": 424
        },
        "id": "50g07U7IrECX",
        "outputId": "a0efc0be-fcb6-4324-ebe8-b440bd504c50"
      },
      "outputs": [
        {
          "data": {
            "text/html": [
              "<div>\n",
              "<style scoped>\n",
              "    .dataframe tbody tr th:only-of-type {\n",
              "        vertical-align: middle;\n",
              "    }\n",
              "\n",
              "    .dataframe tbody tr th {\n",
              "        vertical-align: top;\n",
              "    }\n",
              "\n",
              "    .dataframe thead th {\n",
              "        text-align: right;\n",
              "    }\n",
              "</style>\n",
              "<table border=\"1\" class=\"dataframe\">\n",
              "  <thead>\n",
              "    <tr style=\"text-align: right;\">\n",
              "      <th></th>\n",
              "      <th>Mese</th>\n",
              "      <th>Cupcake</th>\n",
              "    </tr>\n",
              "  </thead>\n",
              "  <tbody>\n",
              "    <tr>\n",
              "      <th>0</th>\n",
              "      <td>2004-01</td>\n",
              "      <td>5</td>\n",
              "    </tr>\n",
              "    <tr>\n",
              "      <th>1</th>\n",
              "      <td>2004-02</td>\n",
              "      <td>5</td>\n",
              "    </tr>\n",
              "    <tr>\n",
              "      <th>2</th>\n",
              "      <td>2004-03</td>\n",
              "      <td>4</td>\n",
              "    </tr>\n",
              "    <tr>\n",
              "      <th>3</th>\n",
              "      <td>2004-04</td>\n",
              "      <td>6</td>\n",
              "    </tr>\n",
              "    <tr>\n",
              "      <th>4</th>\n",
              "      <td>2004-05</td>\n",
              "      <td>5</td>\n",
              "    </tr>\n",
              "  </tbody>\n",
              "</table>\n",
              "</div>"
            ],
            "text/plain": [
              "      Mese  Cupcake\n",
              "0  2004-01        5\n",
              "1  2004-02        5\n",
              "2  2004-03        4\n",
              "3  2004-04        6\n",
              "4  2004-05        5"
            ]
          },
          "execution_count": 5,
          "metadata": {},
          "output_type": "execute_result"
        }
      ],
      "source": [
        "import pandas as pd\n",
        "df = pd.read_csv('../data/cupcake.csv')\n",
        "df.head(5)"
      ]
    },
    {
      "cell_type": "markdown",
      "metadata": {
        "id": "WQJxEbQqrECX"
      },
      "source": [
        "## Binning by distance"
      ]
    },
    {
      "cell_type": "markdown",
      "metadata": {
        "id": "tOqgFn_YrECX"
      },
      "source": [
        "In this case we define the edges of each bin. In Python pandas binning by distance is achieved by means of the cut() function.\n",
        "We group values related to the column Cupcake into three groups: small, medium and big. In order to do it, we need to calculate the intervals within each group falls. We calculate the interval range as the difference between the maximum and minimum value and then we split this interval into three parts, one for each group. We exploit the functions min() and max() of dataframe to calculate the minimum value and the maximum value of the column Cupcake."
      ]
    },
    {
      "cell_type": "code",
      "execution_count": 6,
      "metadata": {
        "colab": {
          "base_uri": "https://localhost:8080/"
        },
        "id": "QtiO2ZcXrECX",
        "outputId": "787f76bd-5e79-449e-8bb8-1f5fb93e5012"
      },
      "outputs": [
        {
          "name": "stdout",
          "output_type": "stream",
          "text": [
            "4\n",
            "100\n"
          ]
        }
      ],
      "source": [
        "min_value = df['Cupcake'].min()\n",
        "max_value = df['Cupcake'].max()\n",
        "print(min_value)\n",
        "print(max_value)"
      ]
    },
    {
      "cell_type": "markdown",
      "metadata": {
        "id": "j5HpLyHHrECX"
      },
      "source": [
        "Now we can calculate the range of each interval, i.e. the minimum and maximum value of each interval. Since we have 3 groups, we need 4 edges of intervals (bins):\n",
        "\n",
        "small — (edge1, edge2)\n",
        "\n",
        "medium — (edge2, edge3)\n",
        "\n",
        "big — (edge3, edge4)\n",
        "\n",
        "We can use the linspace() function of the numpy package to calculate the 4 bins, equally distributed.\n"
      ]
    },
    {
      "cell_type": "code",
      "execution_count": 7,
      "metadata": {
        "colab": {
          "base_uri": "https://localhost:8080/"
        },
        "id": "ZAZmuRTErECc",
        "outputId": "06f2d226-36ee-4a93-d2b0-346ed7aa42aa"
      },
      "outputs": [
        {
          "data": {
            "text/plain": [
              "array([  4.,  36.,  68., 100.])"
            ]
          },
          "execution_count": 7,
          "metadata": {},
          "output_type": "execute_result"
        }
      ],
      "source": [
        "import numpy as np\n",
        "bins = np.linspace(min_value,max_value,4)\n",
        "bins"
      ]
    },
    {
      "cell_type": "code",
      "execution_count": 8,
      "metadata": {
        "collapsed": true,
        "id": "QPWo86HSrECc"
      },
      "outputs": [],
      "source": [
        "labels = ['small', 'medium', 'big']"
      ]
    },
    {
      "cell_type": "markdown",
      "metadata": {
        "id": "aTqq0CbLrECd"
      },
      "source": [
        "We can use the cut() function to convert the numeric values of the column Cupcake into the categorical values. We need to specify the bins and the labels. In addition, we set the parameter include_lowest to True in order to include also the minimum value."
      ]
    },
    {
      "cell_type": "code",
      "execution_count": 9,
      "metadata": {
        "collapsed": true,
        "id": "FSo7z7FdrECd"
      },
      "outputs": [],
      "source": [
        "df['bins'] = pd.cut(df['Cupcake'], bins=bins, labels=labels, include_lowest=True)"
      ]
    },
    {
      "cell_type": "markdown",
      "metadata": {
        "id": "dQQ_bhidrECd"
      },
      "source": [
        "We can plot the distribution of values, by using the hist() function of the matplotlib package."
      ]
    },
    {
      "cell_type": "code",
      "execution_count": 10,
      "metadata": {
        "colab": {
          "base_uri": "https://localhost:8080/"
        },
        "id": "k-FuFY1MrECd",
        "outputId": "3f224939-aeb3-4818-ac16-80d86e24867b"
      },
      "outputs": [
        {
          "data": {
            "text/plain": [
              "0       small\n",
              "1       small\n",
              "2       small\n",
              "3       small\n",
              "4       small\n",
              "        ...  \n",
              "199    medium\n",
              "200    medium\n",
              "201    medium\n",
              "202    medium\n",
              "203    medium\n",
              "Name: bins, Length: 204, dtype: category\n",
              "Categories (3, object): ['small' < 'medium' < 'big']"
            ]
          },
          "execution_count": 10,
          "metadata": {},
          "output_type": "execute_result"
        }
      ],
      "source": [
        "df['bins']"
      ]
    },
    {
      "cell_type": "code",
      "execution_count": 11,
      "metadata": {
        "colab": {
          "base_uri": "https://localhost:8080/",
          "height": 175
        },
        "id": "Jxm1PkeWrECd",
        "outputId": "c83b6f81-cb90-41e8-da9b-6cb2d18a2dd8"
      },
      "outputs": [
        {
          "data": {
            "text/html": [
              "<div>\n",
              "<style scoped>\n",
              "    .dataframe tbody tr th:only-of-type {\n",
              "        vertical-align: middle;\n",
              "    }\n",
              "\n",
              "    .dataframe tbody tr th {\n",
              "        vertical-align: top;\n",
              "    }\n",
              "\n",
              "    .dataframe thead th {\n",
              "        text-align: right;\n",
              "    }\n",
              "</style>\n",
              "<table border=\"1\" class=\"dataframe\">\n",
              "  <thead>\n",
              "    <tr style=\"text-align: right;\">\n",
              "      <th></th>\n",
              "      <th>Mese</th>\n",
              "      <th>Cupcake</th>\n",
              "    </tr>\n",
              "    <tr>\n",
              "      <th>bins</th>\n",
              "      <th></th>\n",
              "      <th></th>\n",
              "    </tr>\n",
              "  </thead>\n",
              "  <tbody>\n",
              "    <tr>\n",
              "      <th>small</th>\n",
              "      <td>68</td>\n",
              "      <td>68</td>\n",
              "    </tr>\n",
              "    <tr>\n",
              "      <th>medium</th>\n",
              "      <td>74</td>\n",
              "      <td>74</td>\n",
              "    </tr>\n",
              "    <tr>\n",
              "      <th>big</th>\n",
              "      <td>62</td>\n",
              "      <td>62</td>\n",
              "    </tr>\n",
              "  </tbody>\n",
              "</table>\n",
              "</div>"
            ],
            "text/plain": [
              "        Mese  Cupcake\n",
              "bins                 \n",
              "small     68       68\n",
              "medium    74       74\n",
              "big       62       62"
            ]
          },
          "execution_count": 11,
          "metadata": {},
          "output_type": "execute_result"
        }
      ],
      "source": [
        "df.groupby(['bins']).count()"
      ]
    },
    {
      "cell_type": "markdown",
      "metadata": {
        "id": "6TTNYndBrECd"
      },
      "source": [
        "## Binning by frequency"
      ]
    },
    {
      "cell_type": "markdown",
      "metadata": {
        "id": "UrVab5_crECd"
      },
      "source": [
        "Binning by frequency calculates the size of each bin so that each bin contains the (almost) same number of observations, but the bin range will vary. We can use the Python pandas qcut() function. We can set the precision parameter to define the number of decimal points."
      ]
    },
    {
      "cell_type": "code",
      "execution_count": 12,
      "metadata": {
        "id": "rnnhx_hErECd"
      },
      "outputs": [],
      "source": [
        "df['bin_qcut'] = pd.qcut(df['Cupcake'], q=3, precision=1, labels=labels)"
      ]
    },
    {
      "cell_type": "code",
      "execution_count": 13,
      "metadata": {
        "colab": {
          "base_uri": "https://localhost:8080/"
        },
        "id": "c0RhGtJorECe",
        "outputId": "f3cd9e11-279c-4326-f29f-f254d42e7f8d"
      },
      "outputs": [
        {
          "data": {
            "text/plain": [
              "0       small\n",
              "1       small\n",
              "2       small\n",
              "3       small\n",
              "4       small\n",
              "        ...  \n",
              "199    medium\n",
              "200    medium\n",
              "201    medium\n",
              "202    medium\n",
              "203    medium\n",
              "Name: bin_qcut, Length: 204, dtype: category\n",
              "Categories (3, object): ['small' < 'medium' < 'big']"
            ]
          },
          "execution_count": 13,
          "metadata": {},
          "output_type": "execute_result"
        }
      ],
      "source": [
        "df['bin_qcut']"
      ]
    },
    {
      "cell_type": "code",
      "execution_count": 14,
      "metadata": {
        "colab": {
          "base_uri": "https://localhost:8080/",
          "height": 175
        },
        "id": "9fCYd3OarECe",
        "outputId": "e1c11143-747f-40be-b0e1-2d68d015ff8a"
      },
      "outputs": [
        {
          "data": {
            "text/html": [
              "<div>\n",
              "<style scoped>\n",
              "    .dataframe tbody tr th:only-of-type {\n",
              "        vertical-align: middle;\n",
              "    }\n",
              "\n",
              "    .dataframe tbody tr th {\n",
              "        vertical-align: top;\n",
              "    }\n",
              "\n",
              "    .dataframe thead th {\n",
              "        text-align: right;\n",
              "    }\n",
              "</style>\n",
              "<table border=\"1\" class=\"dataframe\">\n",
              "  <thead>\n",
              "    <tr style=\"text-align: right;\">\n",
              "      <th></th>\n",
              "      <th>Mese</th>\n",
              "      <th>Cupcake</th>\n",
              "      <th>bins</th>\n",
              "    </tr>\n",
              "    <tr>\n",
              "      <th>bin_qcut</th>\n",
              "      <th></th>\n",
              "      <th></th>\n",
              "      <th></th>\n",
              "    </tr>\n",
              "  </thead>\n",
              "  <tbody>\n",
              "    <tr>\n",
              "      <th>small</th>\n",
              "      <td>68</td>\n",
              "      <td>68</td>\n",
              "      <td>68</td>\n",
              "    </tr>\n",
              "    <tr>\n",
              "      <th>medium</th>\n",
              "      <td>68</td>\n",
              "      <td>68</td>\n",
              "      <td>68</td>\n",
              "    </tr>\n",
              "    <tr>\n",
              "      <th>big</th>\n",
              "      <td>68</td>\n",
              "      <td>68</td>\n",
              "      <td>68</td>\n",
              "    </tr>\n",
              "  </tbody>\n",
              "</table>\n",
              "</div>"
            ],
            "text/plain": [
              "          Mese  Cupcake  bins\n",
              "bin_qcut                     \n",
              "small       68       68    68\n",
              "medium      68       68    68\n",
              "big         68       68    68"
            ]
          },
          "execution_count": 14,
          "metadata": {},
          "output_type": "execute_result"
        }
      ],
      "source": [
        "df.groupby(['bin_qcut']).count()"
      ]
    },
    {
      "cell_type": "markdown",
      "metadata": {
        "id": "e__bLA-xrECe"
      },
      "source": [
        "## Data Preprocessing - Normalization"
      ]
    },
    {
      "cell_type": "markdown",
      "metadata": {
        "id": "ju11IeqerECe"
      },
      "source": [
        "As already said in my previous tutorial on data normalization, Data Normalization involves adjusting values measured on different scales to a common scale.\n",
        "\n",
        "Normalization applies only to columns containing numeric values. Five methods of normalization exist:\n",
        "\n",
        "\n",
        "* single feature scaling,\n",
        "* min max,\n",
        "* z-score,\n",
        "* log scaling,\n",
        "* clipping,\n",
        "\n",
        "In this tutorial, we use the scikit-learn library to perform normalization, while in my previous tutorial I dealt with data normalization using the pandas library. The scikit-learn library can be used also to deal with missing values, as explained in my previous post.\n",
        "\n",
        "All the scikit-learn operations described in this tutorial follow the following steps:\n",
        "\n",
        "* select a preprocessing methodology\n",
        "* fit it through the fit() function\n",
        "* apply it to data through the transform() function.\n",
        "\n",
        "The scikit-learn library works only with arrays, thus when performing every operation, a dataframe column must be converted to an array. This can be achieved through the numpy.array() function, which receives the dataframe column as input. In addition, the fit() function receives as input an array of arrays, each representing a sample of the dataset. Thus the reshape() function could be used to convert a standard array to an array of arrays."
      ]
    },
    {
      "cell_type": "markdown",
      "metadata": {
        "id": "_fABK78MrECe"
      },
      "source": [
        "## Data Import\n",
        "As example dataset, in this tutorial we consider the dataset provided by the Italian Protezione Civile, related to the number of COVID-19 cases registered since the beginning of the COVID-19 pandemic. The dataset is updated daily and can be downloaded from this link.\n",
        "\n",
        "First of all, we need to import the Python pandas library and read the dataset through the read_csv() function. Then we can drop all the columns with NaN values. This is done through dropna() function."
      ]
    },
    {
      "cell_type": "code",
      "execution_count": 15,
      "metadata": {
        "colab": {
          "base_uri": "https://localhost:8080/",
          "height": 601
        },
        "id": "i8S3v7rqrECe",
        "outputId": "6977daf5-f605-40f1-eb17-330a7378b2bd"
      },
      "outputs": [
        {
          "data": {
            "text/html": [
              "<div>\n",
              "<style scoped>\n",
              "    .dataframe tbody tr th:only-of-type {\n",
              "        vertical-align: middle;\n",
              "    }\n",
              "\n",
              "    .dataframe tbody tr th {\n",
              "        vertical-align: top;\n",
              "    }\n",
              "\n",
              "    .dataframe thead th {\n",
              "        text-align: right;\n",
              "    }\n",
              "</style>\n",
              "<table border=\"1\" class=\"dataframe\">\n",
              "  <thead>\n",
              "    <tr style=\"text-align: right;\">\n",
              "      <th></th>\n",
              "      <th>data</th>\n",
              "      <th>stato</th>\n",
              "      <th>codice_regione</th>\n",
              "      <th>denominazione_regione</th>\n",
              "      <th>lat</th>\n",
              "      <th>long</th>\n",
              "      <th>ricoverati_con_sintomi</th>\n",
              "      <th>terapia_intensiva</th>\n",
              "      <th>totale_ospedalizzati</th>\n",
              "      <th>isolamento_domiciliare</th>\n",
              "      <th>totale_positivi</th>\n",
              "      <th>variazione_totale_positivi</th>\n",
              "      <th>nuovi_positivi</th>\n",
              "      <th>dimessi_guariti</th>\n",
              "      <th>deceduti</th>\n",
              "      <th>totale_casi</th>\n",
              "      <th>tamponi</th>\n",
              "    </tr>\n",
              "  </thead>\n",
              "  <tbody>\n",
              "    <tr>\n",
              "      <th>0</th>\n",
              "      <td>2020-02-24T18:00:00</td>\n",
              "      <td>ITA</td>\n",
              "      <td>13</td>\n",
              "      <td>Abruzzo</td>\n",
              "      <td>42.351222</td>\n",
              "      <td>13.398438</td>\n",
              "      <td>0</td>\n",
              "      <td>0</td>\n",
              "      <td>0</td>\n",
              "      <td>0</td>\n",
              "      <td>0</td>\n",
              "      <td>0</td>\n",
              "      <td>0</td>\n",
              "      <td>0</td>\n",
              "      <td>0</td>\n",
              "      <td>0</td>\n",
              "      <td>5</td>\n",
              "    </tr>\n",
              "    <tr>\n",
              "      <th>1</th>\n",
              "      <td>2020-02-24T18:00:00</td>\n",
              "      <td>ITA</td>\n",
              "      <td>17</td>\n",
              "      <td>Basilicata</td>\n",
              "      <td>40.639471</td>\n",
              "      <td>15.805148</td>\n",
              "      <td>0</td>\n",
              "      <td>0</td>\n",
              "      <td>0</td>\n",
              "      <td>0</td>\n",
              "      <td>0</td>\n",
              "      <td>0</td>\n",
              "      <td>0</td>\n",
              "      <td>0</td>\n",
              "      <td>0</td>\n",
              "      <td>0</td>\n",
              "      <td>0</td>\n",
              "    </tr>\n",
              "    <tr>\n",
              "      <th>2</th>\n",
              "      <td>2020-02-24T18:00:00</td>\n",
              "      <td>ITA</td>\n",
              "      <td>18</td>\n",
              "      <td>Calabria</td>\n",
              "      <td>38.905976</td>\n",
              "      <td>16.594402</td>\n",
              "      <td>0</td>\n",
              "      <td>0</td>\n",
              "      <td>0</td>\n",
              "      <td>0</td>\n",
              "      <td>0</td>\n",
              "      <td>0</td>\n",
              "      <td>0</td>\n",
              "      <td>0</td>\n",
              "      <td>0</td>\n",
              "      <td>0</td>\n",
              "      <td>1</td>\n",
              "    </tr>\n",
              "    <tr>\n",
              "      <th>3</th>\n",
              "      <td>2020-02-24T18:00:00</td>\n",
              "      <td>ITA</td>\n",
              "      <td>15</td>\n",
              "      <td>Campania</td>\n",
              "      <td>40.839566</td>\n",
              "      <td>14.250850</td>\n",
              "      <td>0</td>\n",
              "      <td>0</td>\n",
              "      <td>0</td>\n",
              "      <td>0</td>\n",
              "      <td>0</td>\n",
              "      <td>0</td>\n",
              "      <td>0</td>\n",
              "      <td>0</td>\n",
              "      <td>0</td>\n",
              "      <td>0</td>\n",
              "      <td>10</td>\n",
              "    </tr>\n",
              "    <tr>\n",
              "      <th>4</th>\n",
              "      <td>2020-02-24T18:00:00</td>\n",
              "      <td>ITA</td>\n",
              "      <td>8</td>\n",
              "      <td>Emilia-Romagna</td>\n",
              "      <td>44.494367</td>\n",
              "      <td>11.341721</td>\n",
              "      <td>10</td>\n",
              "      <td>2</td>\n",
              "      <td>12</td>\n",
              "      <td>6</td>\n",
              "      <td>18</td>\n",
              "      <td>0</td>\n",
              "      <td>18</td>\n",
              "      <td>0</td>\n",
              "      <td>0</td>\n",
              "      <td>18</td>\n",
              "      <td>148</td>\n",
              "    </tr>\n",
              "    <tr>\n",
              "      <th>5</th>\n",
              "      <td>2020-02-24T18:00:00</td>\n",
              "      <td>ITA</td>\n",
              "      <td>6</td>\n",
              "      <td>Friuli Venezia Giulia</td>\n",
              "      <td>45.649435</td>\n",
              "      <td>13.768136</td>\n",
              "      <td>0</td>\n",
              "      <td>0</td>\n",
              "      <td>0</td>\n",
              "      <td>0</td>\n",
              "      <td>0</td>\n",
              "      <td>0</td>\n",
              "      <td>0</td>\n",
              "      <td>0</td>\n",
              "      <td>0</td>\n",
              "      <td>0</td>\n",
              "      <td>58</td>\n",
              "    </tr>\n",
              "    <tr>\n",
              "      <th>6</th>\n",
              "      <td>2020-02-24T18:00:00</td>\n",
              "      <td>ITA</td>\n",
              "      <td>12</td>\n",
              "      <td>Lazio</td>\n",
              "      <td>41.892770</td>\n",
              "      <td>12.483667</td>\n",
              "      <td>1</td>\n",
              "      <td>1</td>\n",
              "      <td>2</td>\n",
              "      <td>0</td>\n",
              "      <td>2</td>\n",
              "      <td>0</td>\n",
              "      <td>2</td>\n",
              "      <td>1</td>\n",
              "      <td>0</td>\n",
              "      <td>3</td>\n",
              "      <td>124</td>\n",
              "    </tr>\n",
              "    <tr>\n",
              "      <th>7</th>\n",
              "      <td>2020-02-24T18:00:00</td>\n",
              "      <td>ITA</td>\n",
              "      <td>7</td>\n",
              "      <td>Liguria</td>\n",
              "      <td>44.411493</td>\n",
              "      <td>8.932699</td>\n",
              "      <td>0</td>\n",
              "      <td>0</td>\n",
              "      <td>0</td>\n",
              "      <td>0</td>\n",
              "      <td>0</td>\n",
              "      <td>0</td>\n",
              "      <td>0</td>\n",
              "      <td>0</td>\n",
              "      <td>0</td>\n",
              "      <td>0</td>\n",
              "      <td>1</td>\n",
              "    </tr>\n",
              "    <tr>\n",
              "      <th>8</th>\n",
              "      <td>2020-02-24T18:00:00</td>\n",
              "      <td>ITA</td>\n",
              "      <td>3</td>\n",
              "      <td>Lombardia</td>\n",
              "      <td>45.466794</td>\n",
              "      <td>9.190347</td>\n",
              "      <td>76</td>\n",
              "      <td>19</td>\n",
              "      <td>95</td>\n",
              "      <td>71</td>\n",
              "      <td>166</td>\n",
              "      <td>0</td>\n",
              "      <td>166</td>\n",
              "      <td>0</td>\n",
              "      <td>6</td>\n",
              "      <td>172</td>\n",
              "      <td>1463</td>\n",
              "    </tr>\n",
              "    <tr>\n",
              "      <th>9</th>\n",
              "      <td>2020-02-24T18:00:00</td>\n",
              "      <td>ITA</td>\n",
              "      <td>11</td>\n",
              "      <td>Marche</td>\n",
              "      <td>43.616760</td>\n",
              "      <td>13.518875</td>\n",
              "      <td>0</td>\n",
              "      <td>0</td>\n",
              "      <td>0</td>\n",
              "      <td>0</td>\n",
              "      <td>0</td>\n",
              "      <td>0</td>\n",
              "      <td>0</td>\n",
              "      <td>0</td>\n",
              "      <td>0</td>\n",
              "      <td>0</td>\n",
              "      <td>16</td>\n",
              "    </tr>\n",
              "  </tbody>\n",
              "</table>\n",
              "</div>"
            ],
            "text/plain": [
              "                  data stato  codice_regione  denominazione_regione  \\\n",
              "0  2020-02-24T18:00:00   ITA              13                Abruzzo   \n",
              "1  2020-02-24T18:00:00   ITA              17             Basilicata   \n",
              "2  2020-02-24T18:00:00   ITA              18               Calabria   \n",
              "3  2020-02-24T18:00:00   ITA              15               Campania   \n",
              "4  2020-02-24T18:00:00   ITA               8         Emilia-Romagna   \n",
              "5  2020-02-24T18:00:00   ITA               6  Friuli Venezia Giulia   \n",
              "6  2020-02-24T18:00:00   ITA              12                  Lazio   \n",
              "7  2020-02-24T18:00:00   ITA               7                Liguria   \n",
              "8  2020-02-24T18:00:00   ITA               3              Lombardia   \n",
              "9  2020-02-24T18:00:00   ITA              11                 Marche   \n",
              "\n",
              "         lat       long  ricoverati_con_sintomi  terapia_intensiva  \\\n",
              "0  42.351222  13.398438                       0                  0   \n",
              "1  40.639471  15.805148                       0                  0   \n",
              "2  38.905976  16.594402                       0                  0   \n",
              "3  40.839566  14.250850                       0                  0   \n",
              "4  44.494367  11.341721                      10                  2   \n",
              "5  45.649435  13.768136                       0                  0   \n",
              "6  41.892770  12.483667                       1                  1   \n",
              "7  44.411493   8.932699                       0                  0   \n",
              "8  45.466794   9.190347                      76                 19   \n",
              "9  43.616760  13.518875                       0                  0   \n",
              "\n",
              "   totale_ospedalizzati  isolamento_domiciliare  totale_positivi  \\\n",
              "0                     0                       0                0   \n",
              "1                     0                       0                0   \n",
              "2                     0                       0                0   \n",
              "3                     0                       0                0   \n",
              "4                    12                       6               18   \n",
              "5                     0                       0                0   \n",
              "6                     2                       0                2   \n",
              "7                     0                       0                0   \n",
              "8                    95                      71              166   \n",
              "9                     0                       0                0   \n",
              "\n",
              "   variazione_totale_positivi  nuovi_positivi  dimessi_guariti  deceduti  \\\n",
              "0                           0               0                0         0   \n",
              "1                           0               0                0         0   \n",
              "2                           0               0                0         0   \n",
              "3                           0               0                0         0   \n",
              "4                           0              18                0         0   \n",
              "5                           0               0                0         0   \n",
              "6                           0               2                1         0   \n",
              "7                           0               0                0         0   \n",
              "8                           0             166                0         6   \n",
              "9                           0               0                0         0   \n",
              "\n",
              "   totale_casi  tamponi  \n",
              "0            0        5  \n",
              "1            0        0  \n",
              "2            0        1  \n",
              "3            0       10  \n",
              "4           18      148  \n",
              "5            0       58  \n",
              "6            3      124  \n",
              "7            0        1  \n",
              "8          172     1463  \n",
              "9            0       16  "
            ]
          },
          "execution_count": 15,
          "metadata": {},
          "output_type": "execute_result"
        }
      ],
      "source": [
        "import pandas as pd\n",
        "df = pd.read_csv('https://raw.githubusercontent.com/pcm-dpc/COVID-19/master/dati-regioni/dpc-covid19-ita-regioni.csv')\n",
        "df.dropna(axis=1,inplace=True)\n",
        "df.head(10)"
      ]
    },
    {
      "cell_type": "markdown",
      "metadata": {
        "id": "BpCcJtHorECe"
      },
      "source": [
        "\n",
        "## Single Feature Scaling¶\n",
        "Single Feature Scaling converts every value of a column into a number between 0 and 1. The new value is calculated as the current value divided by the max value of the column. This can be done through the MaxAbsScaler class. We apply the scaler to the tamponi column, which mut be converted to array and reshaped."
      ]
    },
    {
      "cell_type": "code",
      "execution_count": 16,
      "metadata": {
        "collapsed": true,
        "id": "FZRgpXuMrECe"
      },
      "outputs": [],
      "source": [
        "import numpy as np\n",
        "from sklearn.preprocessing import MaxAbsScaler\n",
        "\n",
        "X = np.array(df['tamponi']).reshape(-1,1)\n",
        "scaler = MaxAbsScaler()"
      ]
    },
    {
      "cell_type": "markdown",
      "metadata": {
        "id": "XuUJq8vvrECe"
      },
      "source": [
        "Now we can fit the scaler and then apply the transformation. We convert it to the original shape by applying the inverse reshape() function and we store the result into a new column of the datafram df."
      ]
    },
    {
      "cell_type": "code",
      "execution_count": 17,
      "metadata": {
        "colab": {
          "base_uri": "https://localhost:8080/",
          "height": 392
        },
        "id": "87u4tGT2rECf",
        "outputId": "dfdba9d6-44d7-44cb-d7e0-02ba852cb266"
      },
      "outputs": [
        {
          "data": {
            "text/html": [
              "<div>\n",
              "<style scoped>\n",
              "    .dataframe tbody tr th:only-of-type {\n",
              "        vertical-align: middle;\n",
              "    }\n",
              "\n",
              "    .dataframe tbody tr th {\n",
              "        vertical-align: top;\n",
              "    }\n",
              "\n",
              "    .dataframe thead th {\n",
              "        text-align: right;\n",
              "    }\n",
              "</style>\n",
              "<table border=\"1\" class=\"dataframe\">\n",
              "  <thead>\n",
              "    <tr style=\"text-align: right;\">\n",
              "      <th></th>\n",
              "      <th>data</th>\n",
              "      <th>stato</th>\n",
              "      <th>codice_regione</th>\n",
              "      <th>denominazione_regione</th>\n",
              "      <th>lat</th>\n",
              "      <th>long</th>\n",
              "      <th>ricoverati_con_sintomi</th>\n",
              "      <th>terapia_intensiva</th>\n",
              "      <th>totale_ospedalizzati</th>\n",
              "      <th>isolamento_domiciliare</th>\n",
              "      <th>totale_positivi</th>\n",
              "      <th>variazione_totale_positivi</th>\n",
              "      <th>nuovi_positivi</th>\n",
              "      <th>dimessi_guariti</th>\n",
              "      <th>deceduti</th>\n",
              "      <th>totale_casi</th>\n",
              "      <th>tamponi</th>\n",
              "      <th>single feature scaling</th>\n",
              "    </tr>\n",
              "  </thead>\n",
              "  <tbody>\n",
              "    <tr>\n",
              "      <th>0</th>\n",
              "      <td>2020-02-24T18:00:00</td>\n",
              "      <td>ITA</td>\n",
              "      <td>13</td>\n",
              "      <td>Abruzzo</td>\n",
              "      <td>42.351222</td>\n",
              "      <td>13.398438</td>\n",
              "      <td>0</td>\n",
              "      <td>0</td>\n",
              "      <td>0</td>\n",
              "      <td>0</td>\n",
              "      <td>0</td>\n",
              "      <td>0</td>\n",
              "      <td>0</td>\n",
              "      <td>0</td>\n",
              "      <td>0</td>\n",
              "      <td>0</td>\n",
              "      <td>5</td>\n",
              "      <td>1.099074e-07</td>\n",
              "    </tr>\n",
              "    <tr>\n",
              "      <th>1</th>\n",
              "      <td>2020-02-24T18:00:00</td>\n",
              "      <td>ITA</td>\n",
              "      <td>17</td>\n",
              "      <td>Basilicata</td>\n",
              "      <td>40.639471</td>\n",
              "      <td>15.805148</td>\n",
              "      <td>0</td>\n",
              "      <td>0</td>\n",
              "      <td>0</td>\n",
              "      <td>0</td>\n",
              "      <td>0</td>\n",
              "      <td>0</td>\n",
              "      <td>0</td>\n",
              "      <td>0</td>\n",
              "      <td>0</td>\n",
              "      <td>0</td>\n",
              "      <td>0</td>\n",
              "      <td>0.000000e+00</td>\n",
              "    </tr>\n",
              "    <tr>\n",
              "      <th>2</th>\n",
              "      <td>2020-02-24T18:00:00</td>\n",
              "      <td>ITA</td>\n",
              "      <td>18</td>\n",
              "      <td>Calabria</td>\n",
              "      <td>38.905976</td>\n",
              "      <td>16.594402</td>\n",
              "      <td>0</td>\n",
              "      <td>0</td>\n",
              "      <td>0</td>\n",
              "      <td>0</td>\n",
              "      <td>0</td>\n",
              "      <td>0</td>\n",
              "      <td>0</td>\n",
              "      <td>0</td>\n",
              "      <td>0</td>\n",
              "      <td>0</td>\n",
              "      <td>1</td>\n",
              "      <td>2.198149e-08</td>\n",
              "    </tr>\n",
              "    <tr>\n",
              "      <th>3</th>\n",
              "      <td>2020-02-24T18:00:00</td>\n",
              "      <td>ITA</td>\n",
              "      <td>15</td>\n",
              "      <td>Campania</td>\n",
              "      <td>40.839566</td>\n",
              "      <td>14.250850</td>\n",
              "      <td>0</td>\n",
              "      <td>0</td>\n",
              "      <td>0</td>\n",
              "      <td>0</td>\n",
              "      <td>0</td>\n",
              "      <td>0</td>\n",
              "      <td>0</td>\n",
              "      <td>0</td>\n",
              "      <td>0</td>\n",
              "      <td>0</td>\n",
              "      <td>10</td>\n",
              "      <td>2.198149e-07</td>\n",
              "    </tr>\n",
              "    <tr>\n",
              "      <th>4</th>\n",
              "      <td>2020-02-24T18:00:00</td>\n",
              "      <td>ITA</td>\n",
              "      <td>8</td>\n",
              "      <td>Emilia-Romagna</td>\n",
              "      <td>44.494367</td>\n",
              "      <td>11.341721</td>\n",
              "      <td>10</td>\n",
              "      <td>2</td>\n",
              "      <td>12</td>\n",
              "      <td>6</td>\n",
              "      <td>18</td>\n",
              "      <td>0</td>\n",
              "      <td>18</td>\n",
              "      <td>0</td>\n",
              "      <td>0</td>\n",
              "      <td>18</td>\n",
              "      <td>148</td>\n",
              "      <td>3.253260e-06</td>\n",
              "    </tr>\n",
              "  </tbody>\n",
              "</table>\n",
              "</div>"
            ],
            "text/plain": [
              "                  data stato  codice_regione denominazione_regione        lat  \\\n",
              "0  2020-02-24T18:00:00   ITA              13               Abruzzo  42.351222   \n",
              "1  2020-02-24T18:00:00   ITA              17            Basilicata  40.639471   \n",
              "2  2020-02-24T18:00:00   ITA              18              Calabria  38.905976   \n",
              "3  2020-02-24T18:00:00   ITA              15              Campania  40.839566   \n",
              "4  2020-02-24T18:00:00   ITA               8        Emilia-Romagna  44.494367   \n",
              "\n",
              "        long  ricoverati_con_sintomi  terapia_intensiva  totale_ospedalizzati  \\\n",
              "0  13.398438                       0                  0                     0   \n",
              "1  15.805148                       0                  0                     0   \n",
              "2  16.594402                       0                  0                     0   \n",
              "3  14.250850                       0                  0                     0   \n",
              "4  11.341721                      10                  2                    12   \n",
              "\n",
              "   isolamento_domiciliare  totale_positivi  variazione_totale_positivi  \\\n",
              "0                       0                0                           0   \n",
              "1                       0                0                           0   \n",
              "2                       0                0                           0   \n",
              "3                       0                0                           0   \n",
              "4                       6               18                           0   \n",
              "\n",
              "   nuovi_positivi  dimessi_guariti  deceduti  totale_casi  tamponi  \\\n",
              "0               0                0         0            0        5   \n",
              "1               0                0         0            0        0   \n",
              "2               0                0         0            0        1   \n",
              "3               0                0         0            0       10   \n",
              "4              18                0         0           18      148   \n",
              "\n",
              "   single feature scaling  \n",
              "0            1.099074e-07  \n",
              "1            0.000000e+00  \n",
              "2            2.198149e-08  \n",
              "3            2.198149e-07  \n",
              "4            3.253260e-06  "
            ]
          },
          "execution_count": 17,
          "metadata": {},
          "output_type": "execute_result"
        }
      ],
      "source": [
        "scaler.fit(X)\n",
        "X_scaled = scaler.transform(X)\n",
        "df['single feature scaling'] = X_scaled.reshape(1,-1)[0]\n",
        "df.head()"
      ]
    },
    {
      "cell_type": "code",
      "execution_count": 18,
      "metadata": {
        "id": "xhco8D6cvRwR"
      },
      "outputs": [
        {
          "data": {
            "text/plain": [
              "1.0"
            ]
          },
          "execution_count": 18,
          "metadata": {},
          "output_type": "execute_result"
        }
      ],
      "source": [
        "# check the maximum of new column df['single feature scaling']\n",
        "# is the maximum value of that column equals to one? \n",
        "df['single feature scaling'].max()"
      ]
    },
    {
      "cell_type": "markdown",
      "metadata": {
        "id": "KLAc_yiYrECf"
      },
      "source": [
        "The scikit-learn library also provides a function to restore the original values, given the transormation. This function also works for the transformations described later in this article."
      ]
    },
    {
      "cell_type": "code",
      "execution_count": 19,
      "metadata": {
        "colab": {
          "base_uri": "https://localhost:8080/"
        },
        "id": "pD0xMlZrrECf",
        "outputId": "4b2beda7-ed56-45f1-9638-8e970aec798a"
      },
      "outputs": [
        {
          "data": {
            "text/plain": [
              "array([[5.0000000e+00],\n",
              "       [0.0000000e+00],\n",
              "       [1.0000000e+00],\n",
              "       ...,\n",
              "       [5.0578010e+06],\n",
              "       [5.9315500e+05],\n",
              "       [3.7622674e+07]])"
            ]
          },
          "execution_count": 19,
          "metadata": {},
          "output_type": "execute_result"
        }
      ],
      "source": [
        "scaler.inverse_transform(X_scaled)"
      ]
    },
    {
      "cell_type": "markdown",
      "metadata": {
        "id": "O3lFxrJ1rECf"
      },
      "source": [
        "## Min Max¶\n",
        "Similarly to Single Feature Scaling, Min Max converts every value of a column into a number between 0 and 1. The new value is calculated as the difference between the current value and the min value, divided by the range of the column values. In scikit-learn we use the MinMaxScaler class. For example, we can apply the min max method to the column totale_casi."
      ]
    },
    {
      "cell_type": "code",
      "execution_count": 20,
      "metadata": {
        "colab": {
          "base_uri": "https://localhost:8080/",
          "height": 392
        },
        "id": "mgApbXErrECf",
        "outputId": "bc200d9a-d506-43e3-9681-58221726e721"
      },
      "outputs": [
        {
          "data": {
            "text/html": [
              "<div>\n",
              "<style scoped>\n",
              "    .dataframe tbody tr th:only-of-type {\n",
              "        vertical-align: middle;\n",
              "    }\n",
              "\n",
              "    .dataframe tbody tr th {\n",
              "        vertical-align: top;\n",
              "    }\n",
              "\n",
              "    .dataframe thead th {\n",
              "        text-align: right;\n",
              "    }\n",
              "</style>\n",
              "<table border=\"1\" class=\"dataframe\">\n",
              "  <thead>\n",
              "    <tr style=\"text-align: right;\">\n",
              "      <th></th>\n",
              "      <th>data</th>\n",
              "      <th>stato</th>\n",
              "      <th>codice_regione</th>\n",
              "      <th>denominazione_regione</th>\n",
              "      <th>lat</th>\n",
              "      <th>long</th>\n",
              "      <th>ricoverati_con_sintomi</th>\n",
              "      <th>terapia_intensiva</th>\n",
              "      <th>totale_ospedalizzati</th>\n",
              "      <th>isolamento_domiciliare</th>\n",
              "      <th>totale_positivi</th>\n",
              "      <th>variazione_totale_positivi</th>\n",
              "      <th>nuovi_positivi</th>\n",
              "      <th>dimessi_guariti</th>\n",
              "      <th>deceduti</th>\n",
              "      <th>totale_casi</th>\n",
              "      <th>tamponi</th>\n",
              "      <th>single feature scaling</th>\n",
              "      <th>min max</th>\n",
              "    </tr>\n",
              "  </thead>\n",
              "  <tbody>\n",
              "    <tr>\n",
              "      <th>0</th>\n",
              "      <td>2020-02-24T18:00:00</td>\n",
              "      <td>ITA</td>\n",
              "      <td>13</td>\n",
              "      <td>Abruzzo</td>\n",
              "      <td>42.351222</td>\n",
              "      <td>13.398438</td>\n",
              "      <td>0</td>\n",
              "      <td>0</td>\n",
              "      <td>0</td>\n",
              "      <td>0</td>\n",
              "      <td>0</td>\n",
              "      <td>0</td>\n",
              "      <td>0</td>\n",
              "      <td>0</td>\n",
              "      <td>0</td>\n",
              "      <td>0</td>\n",
              "      <td>5</td>\n",
              "      <td>1.099074e-07</td>\n",
              "      <td>0.000000</td>\n",
              "    </tr>\n",
              "    <tr>\n",
              "      <th>1</th>\n",
              "      <td>2020-02-24T18:00:00</td>\n",
              "      <td>ITA</td>\n",
              "      <td>17</td>\n",
              "      <td>Basilicata</td>\n",
              "      <td>40.639471</td>\n",
              "      <td>15.805148</td>\n",
              "      <td>0</td>\n",
              "      <td>0</td>\n",
              "      <td>0</td>\n",
              "      <td>0</td>\n",
              "      <td>0</td>\n",
              "      <td>0</td>\n",
              "      <td>0</td>\n",
              "      <td>0</td>\n",
              "      <td>0</td>\n",
              "      <td>0</td>\n",
              "      <td>0</td>\n",
              "      <td>0.000000e+00</td>\n",
              "      <td>0.000000</td>\n",
              "    </tr>\n",
              "    <tr>\n",
              "      <th>2</th>\n",
              "      <td>2020-02-24T18:00:00</td>\n",
              "      <td>ITA</td>\n",
              "      <td>18</td>\n",
              "      <td>Calabria</td>\n",
              "      <td>38.905976</td>\n",
              "      <td>16.594402</td>\n",
              "      <td>0</td>\n",
              "      <td>0</td>\n",
              "      <td>0</td>\n",
              "      <td>0</td>\n",
              "      <td>0</td>\n",
              "      <td>0</td>\n",
              "      <td>0</td>\n",
              "      <td>0</td>\n",
              "      <td>0</td>\n",
              "      <td>0</td>\n",
              "      <td>1</td>\n",
              "      <td>2.198149e-08</td>\n",
              "      <td>0.000000</td>\n",
              "    </tr>\n",
              "    <tr>\n",
              "      <th>3</th>\n",
              "      <td>2020-02-24T18:00:00</td>\n",
              "      <td>ITA</td>\n",
              "      <td>15</td>\n",
              "      <td>Campania</td>\n",
              "      <td>40.839566</td>\n",
              "      <td>14.250850</td>\n",
              "      <td>0</td>\n",
              "      <td>0</td>\n",
              "      <td>0</td>\n",
              "      <td>0</td>\n",
              "      <td>0</td>\n",
              "      <td>0</td>\n",
              "      <td>0</td>\n",
              "      <td>0</td>\n",
              "      <td>0</td>\n",
              "      <td>0</td>\n",
              "      <td>10</td>\n",
              "      <td>2.198149e-07</td>\n",
              "      <td>0.000000</td>\n",
              "    </tr>\n",
              "    <tr>\n",
              "      <th>4</th>\n",
              "      <td>2020-02-24T18:00:00</td>\n",
              "      <td>ITA</td>\n",
              "      <td>8</td>\n",
              "      <td>Emilia-Romagna</td>\n",
              "      <td>44.494367</td>\n",
              "      <td>11.341721</td>\n",
              "      <td>10</td>\n",
              "      <td>2</td>\n",
              "      <td>12</td>\n",
              "      <td>6</td>\n",
              "      <td>18</td>\n",
              "      <td>0</td>\n",
              "      <td>18</td>\n",
              "      <td>0</td>\n",
              "      <td>0</td>\n",
              "      <td>18</td>\n",
              "      <td>148</td>\n",
              "      <td>3.253260e-06</td>\n",
              "      <td>0.000004</td>\n",
              "    </tr>\n",
              "  </tbody>\n",
              "</table>\n",
              "</div>"
            ],
            "text/plain": [
              "                  data stato  codice_regione denominazione_regione        lat  \\\n",
              "0  2020-02-24T18:00:00   ITA              13               Abruzzo  42.351222   \n",
              "1  2020-02-24T18:00:00   ITA              17            Basilicata  40.639471   \n",
              "2  2020-02-24T18:00:00   ITA              18              Calabria  38.905976   \n",
              "3  2020-02-24T18:00:00   ITA              15              Campania  40.839566   \n",
              "4  2020-02-24T18:00:00   ITA               8        Emilia-Romagna  44.494367   \n",
              "\n",
              "        long  ricoverati_con_sintomi  terapia_intensiva  totale_ospedalizzati  \\\n",
              "0  13.398438                       0                  0                     0   \n",
              "1  15.805148                       0                  0                     0   \n",
              "2  16.594402                       0                  0                     0   \n",
              "3  14.250850                       0                  0                     0   \n",
              "4  11.341721                      10                  2                    12   \n",
              "\n",
              "   isolamento_domiciliare  totale_positivi  variazione_totale_positivi  \\\n",
              "0                       0                0                           0   \n",
              "1                       0                0                           0   \n",
              "2                       0                0                           0   \n",
              "3                       0                0                           0   \n",
              "4                       6               18                           0   \n",
              "\n",
              "   nuovi_positivi  dimessi_guariti  deceduti  totale_casi  tamponi  \\\n",
              "0               0                0         0            0        5   \n",
              "1               0                0         0            0        0   \n",
              "2               0                0         0            0        1   \n",
              "3               0                0         0            0       10   \n",
              "4              18                0         0           18      148   \n",
              "\n",
              "   single feature scaling   min max  \n",
              "0            1.099074e-07  0.000000  \n",
              "1            0.000000e+00  0.000000  \n",
              "2            2.198149e-08  0.000000  \n",
              "3            2.198149e-07  0.000000  \n",
              "4            3.253260e-06  0.000004  "
            ]
          },
          "execution_count": 20,
          "metadata": {},
          "output_type": "execute_result"
        }
      ],
      "source": [
        "from sklearn.preprocessing import MinMaxScaler\n",
        "X = np.array(df['totale_casi']).reshape(-1,1)\n",
        "scaler = MinMaxScaler()\n",
        "scaler.fit(X)\n",
        "X_scaled = scaler.transform(X)\n",
        "df['min max'] = X_scaled.reshape(1,-1)[0]\n",
        "df.head()"
      ]
    },
    {
      "cell_type": "code",
      "execution_count": 26,
      "metadata": {
        "id": "pkkde6iWvf8R"
      },
      "outputs": [
        {
          "name": "stdout",
          "output_type": "stream",
          "text": [
            "Min:  0.0\n",
            "Max:  1.0\n"
          ]
        }
      ],
      "source": [
        "# check the maximum of new column df['min max']\n",
        "# is the maximum value of that column equals to one? and min value equals to zero?\n",
        "print('Min: ', df['min max'].min())\n",
        "print('Max: ', df['min max'].max())"
      ]
    },
    {
      "cell_type": "markdown",
      "metadata": {
        "id": "d3C2JSwIrECf"
      },
      "source": [
        "\n",
        "## z-score\n",
        "Z-Score converts every value of a column into a number around 0. Typical values obtained by a z-score transformation range from -3 and 3. The new value is calculated as the difference between the current value and the average value, divided by the standard deviation. In scikit-learn we can use the StandardScaler function. For example, we can calculate the z-score of the column."
      ]
    },
    {
      "cell_type": "code",
      "execution_count": 27,
      "metadata": {
        "colab": {
          "base_uri": "https://localhost:8080/",
          "height": 392
        },
        "id": "R8-SQoxwrECf",
        "outputId": "f4cb28dd-d8ac-4636-b3fc-ff80eef4e5ec"
      },
      "outputs": [
        {
          "data": {
            "text/html": [
              "<div>\n",
              "<style scoped>\n",
              "    .dataframe tbody tr th:only-of-type {\n",
              "        vertical-align: middle;\n",
              "    }\n",
              "\n",
              "    .dataframe tbody tr th {\n",
              "        vertical-align: top;\n",
              "    }\n",
              "\n",
              "    .dataframe thead th {\n",
              "        text-align: right;\n",
              "    }\n",
              "</style>\n",
              "<table border=\"1\" class=\"dataframe\">\n",
              "  <thead>\n",
              "    <tr style=\"text-align: right;\">\n",
              "      <th></th>\n",
              "      <th>data</th>\n",
              "      <th>stato</th>\n",
              "      <th>codice_regione</th>\n",
              "      <th>denominazione_regione</th>\n",
              "      <th>lat</th>\n",
              "      <th>long</th>\n",
              "      <th>ricoverati_con_sintomi</th>\n",
              "      <th>terapia_intensiva</th>\n",
              "      <th>totale_ospedalizzati</th>\n",
              "      <th>isolamento_domiciliare</th>\n",
              "      <th>totale_positivi</th>\n",
              "      <th>variazione_totale_positivi</th>\n",
              "      <th>nuovi_positivi</th>\n",
              "      <th>dimessi_guariti</th>\n",
              "      <th>deceduti</th>\n",
              "      <th>totale_casi</th>\n",
              "      <th>tamponi</th>\n",
              "      <th>single feature scaling</th>\n",
              "      <th>min max</th>\n",
              "      <th>z score</th>\n",
              "    </tr>\n",
              "  </thead>\n",
              "  <tbody>\n",
              "    <tr>\n",
              "      <th>0</th>\n",
              "      <td>2020-02-24T18:00:00</td>\n",
              "      <td>ITA</td>\n",
              "      <td>13</td>\n",
              "      <td>Abruzzo</td>\n",
              "      <td>42.351222</td>\n",
              "      <td>13.398438</td>\n",
              "      <td>0</td>\n",
              "      <td>0</td>\n",
              "      <td>0</td>\n",
              "      <td>0</td>\n",
              "      <td>0</td>\n",
              "      <td>0</td>\n",
              "      <td>0</td>\n",
              "      <td>0</td>\n",
              "      <td>0</td>\n",
              "      <td>0</td>\n",
              "      <td>5</td>\n",
              "      <td>1.099074e-07</td>\n",
              "      <td>0.000000</td>\n",
              "      <td>-0.719696</td>\n",
              "    </tr>\n",
              "    <tr>\n",
              "      <th>1</th>\n",
              "      <td>2020-02-24T18:00:00</td>\n",
              "      <td>ITA</td>\n",
              "      <td>17</td>\n",
              "      <td>Basilicata</td>\n",
              "      <td>40.639471</td>\n",
              "      <td>15.805148</td>\n",
              "      <td>0</td>\n",
              "      <td>0</td>\n",
              "      <td>0</td>\n",
              "      <td>0</td>\n",
              "      <td>0</td>\n",
              "      <td>0</td>\n",
              "      <td>0</td>\n",
              "      <td>0</td>\n",
              "      <td>0</td>\n",
              "      <td>0</td>\n",
              "      <td>0</td>\n",
              "      <td>0.000000e+00</td>\n",
              "      <td>0.000000</td>\n",
              "      <td>-0.719696</td>\n",
              "    </tr>\n",
              "    <tr>\n",
              "      <th>2</th>\n",
              "      <td>2020-02-24T18:00:00</td>\n",
              "      <td>ITA</td>\n",
              "      <td>18</td>\n",
              "      <td>Calabria</td>\n",
              "      <td>38.905976</td>\n",
              "      <td>16.594402</td>\n",
              "      <td>0</td>\n",
              "      <td>0</td>\n",
              "      <td>0</td>\n",
              "      <td>0</td>\n",
              "      <td>0</td>\n",
              "      <td>0</td>\n",
              "      <td>0</td>\n",
              "      <td>0</td>\n",
              "      <td>0</td>\n",
              "      <td>0</td>\n",
              "      <td>1</td>\n",
              "      <td>2.198149e-08</td>\n",
              "      <td>0.000000</td>\n",
              "      <td>-0.719696</td>\n",
              "    </tr>\n",
              "    <tr>\n",
              "      <th>3</th>\n",
              "      <td>2020-02-24T18:00:00</td>\n",
              "      <td>ITA</td>\n",
              "      <td>15</td>\n",
              "      <td>Campania</td>\n",
              "      <td>40.839566</td>\n",
              "      <td>14.250850</td>\n",
              "      <td>0</td>\n",
              "      <td>0</td>\n",
              "      <td>0</td>\n",
              "      <td>0</td>\n",
              "      <td>0</td>\n",
              "      <td>0</td>\n",
              "      <td>0</td>\n",
              "      <td>0</td>\n",
              "      <td>0</td>\n",
              "      <td>0</td>\n",
              "      <td>10</td>\n",
              "      <td>2.198149e-07</td>\n",
              "      <td>0.000000</td>\n",
              "      <td>-0.719696</td>\n",
              "    </tr>\n",
              "    <tr>\n",
              "      <th>4</th>\n",
              "      <td>2020-02-24T18:00:00</td>\n",
              "      <td>ITA</td>\n",
              "      <td>8</td>\n",
              "      <td>Emilia-Romagna</td>\n",
              "      <td>44.494367</td>\n",
              "      <td>11.341721</td>\n",
              "      <td>10</td>\n",
              "      <td>2</td>\n",
              "      <td>12</td>\n",
              "      <td>6</td>\n",
              "      <td>18</td>\n",
              "      <td>0</td>\n",
              "      <td>18</td>\n",
              "      <td>0</td>\n",
              "      <td>0</td>\n",
              "      <td>18</td>\n",
              "      <td>148</td>\n",
              "      <td>3.253260e-06</td>\n",
              "      <td>0.000004</td>\n",
              "      <td>-0.719696</td>\n",
              "    </tr>\n",
              "  </tbody>\n",
              "</table>\n",
              "</div>"
            ],
            "text/plain": [
              "                  data stato  codice_regione denominazione_regione        lat  \\\n",
              "0  2020-02-24T18:00:00   ITA              13               Abruzzo  42.351222   \n",
              "1  2020-02-24T18:00:00   ITA              17            Basilicata  40.639471   \n",
              "2  2020-02-24T18:00:00   ITA              18              Calabria  38.905976   \n",
              "3  2020-02-24T18:00:00   ITA              15              Campania  40.839566   \n",
              "4  2020-02-24T18:00:00   ITA               8        Emilia-Romagna  44.494367   \n",
              "\n",
              "        long  ricoverati_con_sintomi  terapia_intensiva  totale_ospedalizzati  \\\n",
              "0  13.398438                       0                  0                     0   \n",
              "1  15.805148                       0                  0                     0   \n",
              "2  16.594402                       0                  0                     0   \n",
              "3  14.250850                       0                  0                     0   \n",
              "4  11.341721                      10                  2                    12   \n",
              "\n",
              "   isolamento_domiciliare  totale_positivi  variazione_totale_positivi  \\\n",
              "0                       0                0                           0   \n",
              "1                       0                0                           0   \n",
              "2                       0                0                           0   \n",
              "3                       0                0                           0   \n",
              "4                       6               18                           0   \n",
              "\n",
              "   nuovi_positivi  dimessi_guariti  deceduti  totale_casi  tamponi  \\\n",
              "0               0                0         0            0        5   \n",
              "1               0                0         0            0        0   \n",
              "2               0                0         0            0        1   \n",
              "3               0                0         0            0       10   \n",
              "4              18                0         0           18      148   \n",
              "\n",
              "   single feature scaling   min max   z score  \n",
              "0            1.099074e-07  0.000000 -0.719696  \n",
              "1            0.000000e+00  0.000000 -0.719696  \n",
              "2            2.198149e-08  0.000000 -0.719696  \n",
              "3            2.198149e-07  0.000000 -0.719696  \n",
              "4            3.253260e-06  0.000004 -0.719696  "
            ]
          },
          "execution_count": 27,
          "metadata": {},
          "output_type": "execute_result"
        }
      ],
      "source": [
        "from sklearn.preprocessing import StandardScaler\n",
        "\n",
        "X = np.array(df['deceduti']).reshape(-1,1)\n",
        "scaler = StandardScaler()\n",
        "scaler.fit(X)\n",
        "X_scaled = scaler.transform(X)\n",
        "df['z score'] = X_scaled.reshape(1,-1)[0]\n",
        "df.head()"
      ]
    },
    {
      "cell_type": "code",
      "execution_count": 33,
      "metadata": {
        "id": "V4K3Cwbkvlu1"
      },
      "outputs": [
        {
          "name": "stdout",
          "output_type": "stream",
          "text": [
            "Max:  5.15212803828935\n",
            "Mean:  0.0\n",
            "Standard deviation:  1.000020668630189\n"
          ]
        }
      ],
      "source": [
        "from statistics import stdev\n",
        "# check the maximum of new column df['z score']\n",
        "# is the mean value of that column equals to zero? and standard deviation equals to one ?\n",
        "print('Max: ', df['z score'].max())\n",
        "print('Mean: ', df['z score'].mean())\n",
        "print('Standard deviation: ', stdev(df['z score']))"
      ]
    },
    {
      "cell_type": "markdown",
      "metadata": {
        "id": "li8ZnCyHrECf"
      },
      "source": [
        "For more details, you can give a look at this link\n",
        "<a href=\"https://scikit-learn.org/stable/auto_examples/preprocessing/plot_all_scaling.html\">this link</a>"
      ]
    },
    {
      "cell_type": "code",
      "execution_count": 35,
      "metadata": {
        "id": "xm0fRhZOvMHG"
      },
      "outputs": [
        {
          "name": "stdout",
          "output_type": "stream",
          "text": [
            "Mean:  -2.819614030794048e-17\n",
            "Standard deviation:  1.0000206686301887\n"
          ]
        }
      ],
      "source": [
        "# Please transform column ricoverati_con_sintomi to z-score. \n",
        "# save the z-score of ricoverati_con_sintomi in a new columns called 'ricoverati_con_sintomi_z_score'\n",
        "# check if the mean = 0 and std = 1\n",
        "X = np.array(df['ricoverati_con_sintomi']).reshape(-1,1)\n",
        "scaler = StandardScaler()\n",
        "scaler.fit(X)\n",
        "X_scaled = scaler.transform(X)\n",
        "df['ricoverati_con_sintomi_z_score'] = X_scaled.reshape(1,-1)[0]\n",
        "# df.head()\n",
        "\n",
        "print('Mean: ', df['ricoverati_con_sintomi_z_score'].mean())\n",
        "print('Standard deviation: ', stdev(df['ricoverati_con_sintomi_z_score']))"
      ]
    }
  ],
  "metadata": {
    "colab": {
      "provenance": []
    },
    "kernelspec": {
      "display_name": "venv",
      "language": "python",
      "name": "venv"
    },
    "language_info": {
      "codemirror_mode": {
        "name": "ipython",
        "version": 3
      },
      "file_extension": ".py",
      "mimetype": "text/x-python",
      "name": "python",
      "nbconvert_exporter": "python",
      "pygments_lexer": "ipython3",
      "version": "3.10.11"
    }
  },
  "nbformat": 4,
  "nbformat_minor": 0
}
