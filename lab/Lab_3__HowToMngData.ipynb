{
  "cells": [
    {
      "cell_type": "markdown",
      "metadata": {
        "id": "zwZ4QHkmlASW"
      },
      "source": [
        "# How to manage data"
      ]
    },
    {
      "cell_type": "markdown",
      "metadata": {
        "id": "I_boi4hPlASY"
      },
      "source": [
        "## List \n",
        "\n",
        "Well done so far! This is your introduction to structured data.\n",
        "\n",
        "Today, we're going to introduce the list data type, and\n",
        "lists are much more powerful than strings, so whereas for a string, all of the elements had to be characters, in a list, the elements can be anything we want. They could be characters. They could be strings. They could be numbers. They could also be other lists.\n",
        "\n",
        "Like a string, a **list** is a sequence of values. In a string, the values are characters; in a list, they can be any type. The values in list are called **elements** or sometimes **items**.\n",
        "\n",
        "List elements are written within square brackets [ ]. Square brackets [ ] access data, with the first element at index 0.  Many of the operations defined above for strings also apply to lists. So it can be convenient to think of a string simply as a list of characters."
      ]
    },
    {
      "cell_type": "code",
      "execution_count": 2,
      "metadata": {
        "collapsed": true,
        "id": "4YuoVA_MlASZ"
      },
      "outputs": [
        {
          "name": "stdout",
          "output_type": "stream",
          "text": [
            "red\n",
            "blue\n",
            "green\n",
            "\n",
            "True\n",
            "False\n",
            "\n",
            "7\n",
            "\n",
            "\n"
          ]
        }
      ],
      "source": [
        "colors = ['red', 'blue', 'green']\n",
        "print(colors[0])\n",
        "print(colors[1])\n",
        "print(colors[2])\n",
        "print(\"\")\n",
        "\n",
        "print('red' in colors)\n",
        "print('black' in colors)\n",
        "print(\"\")\n",
        "\n",
        "numbers = [5, 4, 3, 2, 1, 'hello', 2.3]\n",
        "print(len(numbers))\n",
        "\n",
        "print()\n",
        "list_of_lists = [[1,2,3],[4,5,6],[7,8,9]]\n",
        "print()\n",
        "\n",
        "\n",
        "# Empty list\n",
        "c = []"
      ]
    },
    {
      "cell_type": "code",
      "execution_count": 3,
      "metadata": {
        "colab": {
          "base_uri": "https://localhost:8080/"
        },
        "collapsed": true,
        "id": "uhMwEkBulASZ",
        "outputId": "3b7383fd-2717-434c-e98d-f01a4b66711f"
      },
      "outputs": [
        {
          "name": "stdout",
          "output_type": "stream",
          "text": [
            "[1, 2, 3, 5, 6, 0]\n",
            "[4, 5]\n"
          ]
        }
      ],
      "source": [
        "# Assignment with an = on lists does not make a copy. \n",
        "# Instead, assignment makes the two variables \n",
        "# point to the one list in memory.\n",
        "b = a = [1,2,3,5,6]\n",
        "a.append(0)\n",
        "a = [4,5]\n",
        "print(b)\n",
        "print(a)\n",
        "\n",
        "# Note: The above is true for all objects in Python, not only lists.\n",
        "# (We'll talk more about objects later)\n"
      ]
    },
    {
      "cell_type": "markdown",
      "metadata": {
        "id": "STgC3LXglASa"
      },
      "source": [
        "## Exercise 1: "
      ]
    },
    {
      "cell_type": "code",
      "execution_count": 5,
      "metadata": {
        "collapsed": true,
        "id": "VYf5RQD2lASa"
      },
      "outputs": [
        {
          "name": "stdout",
          "output_type": "stream",
          "text": [
            "30\n",
            "31\n",
            "31\n"
          ]
        }
      ],
      "source": [
        "\n",
        "months = ['January', \"February\", \"March\", \"April\", \"May\", \"June\", \"July\",\\\n",
        "          \"August\", \"September\", \"October\", \"November\", \"December\"]\n",
        "days = [31,28,31,30,31,30,31,31,30,31,30,31]\n",
        "\n",
        "# Define a function that inputs a string with the month and returns the number \n",
        "# of days in that month.\n",
        "\n",
        "def month_day(month):\n",
        "   ##code here##\n",
        "   for i in range(len(months)):\n",
        "      if months[i] == month:\n",
        "         print(days[i])\n",
        "\n",
        "month_day('June')\n",
        "month_day('July')\n",
        "month_day('December')\n",
        "\n"
      ]
    },
    {
      "cell_type": "markdown",
      "metadata": {
        "id": "KCyF426vlASa"
      },
      "source": [
        "## Exercise 2:"
      ]
    },
    {
      "cell_type": "code",
      "execution_count": 24,
      "metadata": {
        "collapsed": true,
        "id": "O_QjhNDGlASa"
      },
      "outputs": [
        {
          "name": "stdout",
          "output_type": "stream",
          "text": [
            "The population of United States is 10.66 times bigger than that of Malaysia.\n"
          ]
        }
      ],
      "source": [
        "# Nested Lists Example, let's use population (thousands). \n",
        "countries = [['China','Beijing', 1350],\n",
        "             ['India','Delhi',1210],\n",
        "             ['United States','Washington DC', 309],\n",
        "             ['Malaysia','Kuala Lumpur',29]]\n",
        "\n",
        "# Define a function that input two countries \n",
        "# How many times bigger is the population of China, India, and the US relative to Malaysia?\n",
        "def compare_population(target_country, reference_country = 'Malaysia'):\n",
        "  ## code here ##\n",
        "  tar_pop = 0\n",
        "  ref_pop = 0\n",
        "\n",
        "  for country in countries:\n",
        "    if country[0] == target_country:\n",
        "      tar_pop = country[2]\n",
        "    elif country[0] == reference_country:\n",
        "      ref_pop = country[2]\n",
        "    elif tar_pop!=0 and ref_pop!=0:\n",
        "      break\n",
        "  \n",
        "  ratio = tar_pop/ref_pop\n",
        "  print(f'The population of {target_country} is {ratio:.2f} times bigger than that of {reference_country}.')\n",
        "\n",
        "compare_population('United States')"
      ]
    },
    {
      "cell_type": "markdown",
      "metadata": {
        "id": "UmOKFBBnlASb"
      },
      "source": [
        "## Mutation"
      ]
    },
    {
      "cell_type": "code",
      "execution_count": 33,
      "metadata": {
        "colab": {
          "base_uri": "https://localhost:8080/"
        },
        "id": "YqCmwzK2lASb",
        "outputId": "f5e6c3aa-b63f-4e7a-87ec-6482ce318c9e"
      },
      "outputs": [
        {
          "name": "stdout",
          "output_type": "stream",
          "text": [
            "Hello!\n",
            "Hello\n",
            "H\n"
          ]
        }
      ],
      "source": [
        "# A big difference is strings can't mutate - they can't change the\n",
        "# existing object.\n",
        "s = 'Hello'\n",
        "print((s + '!'))\n",
        "print(s)\n",
        "print((s[0]))\n",
        "\n",
        "#String is immutable\n",
        "# s[0] = \"Y\"\n"
      ]
    },
    {
      "cell_type": "code",
      "execution_count": 32,
      "metadata": {
        "colab": {
          "base_uri": "https://localhost:8080/"
        },
        "id": "-Fsn92k5lASc",
        "outputId": "a7c32b82-0ad5-406b-daac-8702d299705e"
      },
      "outputs": [
        {
          "name": "stdout",
          "output_type": "stream",
          "text": [
            "['Y', 'e', 'l', 'l', 'o']\n"
          ]
        }
      ],
      "source": [
        "# But Lists are mutable: once an object is mutable, then we\n",
        "# have to worry about other variables that might\n",
        "# refer to the same object. \n",
        "p = ['H','e','l','l','o']\n",
        "q = p\n",
        "p[0] = 'Y'\n",
        "print(q)"
      ]
    },
    {
      "cell_type": "code",
      "execution_count": 35,
      "metadata": {
        "colab": {
          "base_uri": "https://localhost:8080/"
        },
        "id": "01qhaf49lASc",
        "outputId": "9d886777-e404-4b30-ed79-9cc2c2359c5d"
      },
      "outputs": [
        {
          "name": "stdout",
          "output_type": "stream",
          "text": [
            "[4, 5, 6, 8, 9]\n",
            "[4, 5, 6, 8, 9, 0]\n",
            "[4, 5, 6, 8, 9, 0]\n"
          ]
        }
      ],
      "source": [
        "# Assignment with an = on lists does not make a copy. \n",
        "# Instead, assignment makes the two variables \n",
        "# point to the one list in memory.\n",
        "num = [4,5,6,8,9]\n",
        "b = num\n",
        "print(num)\n",
        "num.append(0)\n",
        "print(num)\n",
        "print(b)"
      ]
    },
    {
      "cell_type": "markdown",
      "metadata": {
        "id": "BAbQB4A3lASc"
      },
      "source": [
        "### List Methods\n",
        "\n",
        "- list.append(elem) -- adds a single element to the end of the list. Common error: does not return the new list, just modifies the original.\n",
        "- list.insert(index, elem) -- inserts the element at the given index, shifting elements to the right.\n",
        "- list.extend(list2) adds the elements in list2 to the end of the list. Using + or += on a list is similar to using extend().\n",
        "- list.index(elem) -- searches for the given element from the start of the list and returns its index. Throws a ValueError if the element does not appear (use \"in\" to check without a ValueError).\n",
        "- list.remove(elem) -- searches for the first instance of the given element and removes it (throws ValueError if not present)\n",
        "- list.sort() -- sorts the list in place (does not return it).\n",
        "- sorted(list) -- return sorted list but keeps the original order of the list\n",
        "- list.reverse() -- reverses the list in place (does not return it)\n",
        "- list.pop(index) -- removes and returns the element at the given index. Returns the rightmost element if index is omitted (roughly the opposite of append())."
      ]
    },
    {
      "cell_type": "code",
      "execution_count": 51,
      "metadata": {
        "colab": {
          "base_uri": "https://localhost:8080/"
        },
        "id": "3O3JhxKnphke",
        "outputId": "fad7dd61-2e19-4fbb-aadb-bdc094a049d3"
      },
      "outputs": [
        {
          "name": "stdout",
          "output_type": "stream",
          "text": [
            "['red', 'green', 'blue']\n",
            "['red', 'green', 'blue', 'purple']\n",
            "['red', 'yellow', 'green', 'blue', 'purple']\n",
            "\n"
          ]
        }
      ],
      "source": [
        "colors = ['red', 'green', 'blue']\n",
        "print(colors)\n",
        "colors.append('purple')\n",
        "print(colors)\n",
        "colors.insert(1, 'yellow')\n",
        "print(colors)\n",
        "print()\n"
      ]
    },
    {
      "cell_type": "code",
      "execution_count": 52,
      "metadata": {
        "colab": {
          "base_uri": "https://localhost:8080/"
        },
        "id": "L80QWENrplOt",
        "outputId": "d663a970-1ec8-49fb-998e-270300d7e748"
      },
      "outputs": [
        {
          "name": "stdout",
          "output_type": "stream",
          "text": [
            "['red', 'yellow', 'green', 'blue', 'purple', 'cyan', 'white']\n",
            "4\n"
          ]
        }
      ],
      "source": [
        "new_list = ['cyan', 'white']\n",
        "colors.extend(new_list)\n",
        "print(colors)\n",
        "\n",
        "print(colors.index('purple'))\n"
      ]
    },
    {
      "cell_type": "code",
      "execution_count": 53,
      "metadata": {
        "colab": {
          "base_uri": "https://localhost:8080/"
        },
        "id": "HHyAKYhvpsRo",
        "outputId": "354629be-29cb-4154-9682-b73ea03723b2"
      },
      "outputs": [
        {
          "name": "stdout",
          "output_type": "stream",
          "text": [
            "['red', 'yellow', 'green', 'blue', 'purple', 'cyan']\n",
            "\n"
          ]
        }
      ],
      "source": [
        "colors.remove('white')\n",
        "print(colors)\n",
        "\n",
        "#use del \n",
        "del colors[1]\n",
        "print()\n"
      ]
    },
    {
      "cell_type": "code",
      "execution_count": 54,
      "metadata": {
        "colab": {
          "base_uri": "https://localhost:8080/"
        },
        "id": "EWItR_W0p85-",
        "outputId": "e8981408-c808-4e8b-e180-e1df5f8ad73c"
      },
      "outputs": [
        {
          "name": "stdout",
          "output_type": "stream",
          "text": [
            "['blue', 'cyan', 'green', 'purple', 'red']\n",
            "\n",
            "['red', 'purple', 'green', 'cyan', 'blue']\n",
            "\n",
            "['red', 'purple', 'green', 'cyan', 'blue']\n",
            "\n",
            "['red', 'purple', 'green', 'cyan', 'blue']\n"
          ]
        }
      ],
      "source": [
        "colors.sort()\n",
        "print(colors)\n",
        "print()\n",
        "\n",
        "colors.sort(reverse=True)\n",
        "print(colors)\n",
        "print()\n",
        "\n",
        "print(colors)\n",
        "colors.reverse()\n",
        "print()\n",
        "\n",
        "print((sorted(colors, reverse=True)))\n"
      ]
    },
    {
      "cell_type": "code",
      "execution_count": 55,
      "metadata": {
        "colab": {
          "base_uri": "https://localhost:8080/"
        },
        "id": "6IEgYaWKlASc",
        "outputId": "6740c9dc-abdf-4d2b-8a2f-5446dae77395"
      },
      "outputs": [
        {
          "name": "stdout",
          "output_type": "stream",
          "text": [
            "['blue', 'cyan', 'green', 'purple', 'red']\n",
            "cyan\n",
            "['blue', 'green', 'purple', 'red']\n",
            "\n",
            "['blue', 'green', 'purple']\n"
          ]
        }
      ],
      "source": [
        "print(colors)\n",
        "print(colors.pop(1))\n",
        "print(colors)\n",
        "print()\n",
        "\n",
        "#pop\n",
        "colors.pop()\n",
        "print(colors)"
      ]
    },
    {
      "cell_type": "code",
      "execution_count": null,
      "metadata": {
        "id": "7rvTvPJjlASc",
        "outputId": "3efcd197-df3e-4166-e950-0bc6285f194a"
      },
      "outputs": [
        {
          "name": "stdout",
          "output_type": "stream",
          "text": [
            "['red', 'yellow', 'green', 'blue', 'purple', 'cyan']\n",
            "['blue', 'cyan', 'green', 'purple', 'red', 'yellow']\n"
          ]
        }
      ],
      "source": [
        "colors = ['red', 'yellow', 'green', 'blue', 'purple', 'cyan']\n",
        "print(colors)\n",
        "\n",
        "print((sorted(colors)))"
      ]
    },
    {
      "cell_type": "code",
      "execution_count": null,
      "metadata": {
        "id": "NUaaHY0PlASd",
        "outputId": "d524e0d6-6128-4524-a682-d2af48abdb53"
      },
      "outputs": [
        {
          "name": "stdout",
          "output_type": "stream",
          "text": [
            "False\n",
            "[1, 2, 3, 4, 5, 6]\n",
            "\n",
            "[1, 2, 3, 4, 5, 6, 7, 8]\n",
            "\n",
            "[1, 2, 3, 4, [5, 6]]\n"
          ]
        }
      ],
      "source": [
        "# If you run the following four lines of codes, what are list1 and list2?\n",
        "\n",
        "list1 = [1,2,3,4]\n",
        "list2 = [1,2,3,4]\n",
        "\n",
        "print(list1 is list2)\n",
        "\n",
        "list1 = list1 + [5, 6]\n",
        "print(list1)\n",
        "print()\n",
        "\n",
        "list1.extend([7,8])\n",
        "print(list1)\n",
        "print()\n",
        "\n",
        "list2.append([5, 6])\n",
        "print(list2)"
      ]
    },
    {
      "cell_type": "markdown",
      "metadata": {
        "id": "Iv97-grklASd"
      },
      "source": [
        "### List Slices\n",
        "\n",
        "Slices work on lists just as with strings, and can also be used to change sub-parts of the list."
      ]
    },
    {
      "cell_type": "code",
      "execution_count": 56,
      "metadata": {
        "colab": {
          "base_uri": "https://localhost:8080/"
        },
        "id": "jG1MFHR1lASd",
        "outputId": "7c660aec-a5d5-4156-c704-e384dd0c8a2c"
      },
      "outputs": [
        {
          "name": "stdout",
          "output_type": "stream",
          "text": [
            "['BMW', 'Honda']\n",
            "['BMW', 'Honda', 'Benz', 'Isuzu', 'Volkswagen']\n",
            "['Toyota', 'BMW', 'Honda']\n"
          ]
        }
      ],
      "source": [
        "cars = ['Toyota', 'BMW', 'Honda', 'Benz', 'Isuzu', 'Volkswagen', 'Mazda']\n",
        "\n",
        "print(cars[1:3])\n",
        "print(cars[1:-1])\n",
        "print(cars[:3])"
      ]
    },
    {
      "cell_type": "markdown",
      "metadata": {
        "id": "50XIJf5alASd"
      },
      "source": [
        "### For & In (Or Loops on Lists)\n",
        "\n",
        "Python's *for* and *in* constructs are extremely useful, and the first use of them we'll see is with lists. The *for* construct -- for var in list -- is an easy way to look at each element in a list (or other collection)."
      ]
    },
    {
      "cell_type": "code",
      "execution_count": 58,
      "metadata": {
        "colab": {
          "base_uri": "https://localhost:8080/"
        },
        "id": "AFPT4fvRlASd",
        "outputId": "6746d8f9-3a0b-409a-c339-83c4eb743700"
      },
      "outputs": [
        {
          "name": "stdout",
          "output_type": "stream",
          "text": [
            "1\n",
            "2\n",
            "3\n",
            "4\n",
            "5\n"
          ]
        }
      ],
      "source": [
        "# Loop through a list using while\n",
        "a = [1,2,3,4,5]\n",
        "i = 0\n",
        "len_a = len(a)\n",
        "\n",
        "while i < len_a:\n",
        "    print(a[i])\n",
        "    i += 1"
      ]
    },
    {
      "cell_type": "code",
      "execution_count": 59,
      "metadata": {
        "colab": {
          "base_uri": "https://localhost:8080/"
        },
        "id": "3rcc1Mx-lASe",
        "outputId": "ccdec375-16c2-41c4-cead-895906f12431"
      },
      "outputs": [
        {
          "name": "stdout",
          "output_type": "stream",
          "text": [
            "1\n",
            "2\n",
            "3\n",
            "4\n",
            "7\n",
            "8\n",
            "9\n",
            "10\n"
          ]
        }
      ],
      "source": [
        "# Syntax of for and in:\n",
        "\n",
        "# for each_element in a_list:\n",
        "    #Iterate through each element\n",
        "    #and run this code on each element\n",
        "    #where  each_element refers to the item.\n",
        "\n",
        "b = [1,2,3,4,7,8,9,10]\n",
        "for items in b:\n",
        "    print(items)\n",
        "    "
      ]
    },
    {
      "cell_type": "code",
      "execution_count": 60,
      "metadata": {
        "colab": {
          "base_uri": "https://localhost:8080/"
        },
        "id": "Dyt4he43lASe",
        "outputId": "59a3f3bf-6fd5-4a83-e781-cc529a7f750e"
      },
      "outputs": [
        {
          "name": "stdout",
          "output_type": "stream",
          "text": [
            "<class 'list'>\n",
            "['blue', 'green', 'purple']\n",
            "blue\n",
            "Blue\n",
            "\n",
            "green\n",
            "Green\n",
            "\n",
            "purple\n",
            "Purple\n",
            "\n"
          ]
        }
      ],
      "source": [
        "print(type(colors))\n",
        "print(colors) \n",
        "\n",
        "for color in colors:\n",
        "    print(color)\n",
        "    print((color.title()))\n",
        "    print()"
      ]
    },
    {
      "cell_type": "markdown",
      "metadata": {
        "id": "VHMSsth0lASe"
      },
      "source": [
        "## Exercise 3: "
      ]
    },
    {
      "cell_type": "code",
      "execution_count": 3,
      "metadata": {
        "colab": {
          "base_uri": "https://localhost:8080/"
        },
        "collapsed": true,
        "id": "EyOHWStrlASe",
        "outputId": "76d520bd-e2ea-4761-ef8a-8e9aa99e7ed3"
      },
      "outputs": [
        {
          "name": "stdout",
          "output_type": "stream",
          "text": [
            "55\n"
          ]
        }
      ],
      "source": [
        "# Define sum_list.\n",
        "\n",
        "def sum_list(your_list):\n",
        "    ## your code here ##\n",
        "    sum = 0\n",
        "    for i in range(len(your_list)):\n",
        "        sum+=your_list[i]\n",
        "    print(sum)\n",
        "\n",
        "squares = [1, 4, 9, 16, 25]\n",
        "sum_list(squares)"
      ]
    },
    {
      "cell_type": "markdown",
      "metadata": {
        "id": "2npKkwpmlASf"
      },
      "source": [
        "## Exercise 4:"
      ]
    },
    {
      "cell_type": "code",
      "execution_count": 7,
      "metadata": {
        "collapsed": true,
        "id": "wiBdYYIdlASf"
      },
      "outputs": [
        {
          "data": {
            "text/plain": [
              "'Not found!'"
            ]
          },
          "execution_count": 7,
          "metadata": {},
          "output_type": "execute_result"
        }
      ],
      "source": [
        "# Write a function to find whether a number appear in a list\n",
        "# Return \"Found!\" or \"Not found!\"\n",
        "\n",
        "def find(num, li):\n",
        "    ##your code here##\n",
        "    for i in range(len(li)):\n",
        "        if num == li[i]:\n",
        "            return 'Found!'\n",
        "    return 'Not found!'\n",
        "        \n",
        "# find(10, list(range(100)))\n",
        "find(250, list(range(100)))"
      ]
    },
    {
      "cell_type": "code",
      "execution_count": null,
      "metadata": {
        "collapsed": true,
        "id": "1ahPakFhlASf"
      },
      "outputs": [],
      "source": [
        "#try with longer lists\n",
        "find(999999, list(range(1000000)))\n",
        "# find('ah', list(range(1000000)))\n"
      ]
    },
    {
      "cell_type": "markdown",
      "metadata": {
        "id": "LV44Ds3PlASg"
      },
      "source": [
        "## Exercise 5: "
      ]
    },
    {
      "cell_type": "code",
      "execution_count": 11,
      "metadata": {
        "collapsed": true,
        "id": "b7ssDJFLlASg"
      },
      "outputs": [
        {
          "name": "stdout",
          "output_type": "stream",
          "text": [
            "[7, 25, 27]\n"
          ]
        }
      ],
      "source": [
        "# Define a function that print the list of a specified list after\n",
        "# removing even numbers from it\n",
        "\n",
        "num = [7,8, 120, 25, 44, 20, 27]\n",
        "def remove_even(x):\n",
        "    ##your code here##\n",
        "    num = []\n",
        "    for i in x:\n",
        "        if i%2 != 0:\n",
        "            num.append(i)\n",
        "    print(num)\n",
        "\n",
        "remove_even(num)\n"
      ]
    },
    {
      "cell_type": "code",
      "execution_count": 88,
      "metadata": {
        "colab": {
          "base_uri": "https://localhost:8080/"
        },
        "collapsed": true,
        "id": "dNmX4QRClASg",
        "outputId": "ea9bd4f8-b82d-4edd-8ee5-032c642ac8ce"
      },
      "outputs": [
        {
          "data": {
            "text/plain": [
              "{'Apple', 'Banana', 'Durian', 'Orange'}"
            ]
          },
          "execution_count": 88,
          "metadata": {},
          "output_type": "execute_result"
        }
      ],
      "source": [
        "# Define a function that gives the union of lists.\n",
        "\n",
        "a = ['Orange','Banana','Apple']\n",
        "b = ['Banana', 'Orange','Durian']\n",
        "\n",
        "def union_of_lists(seta,setb):\n",
        "    return set().union(seta,setb)\n",
        "\n",
        "union_of_lists(a,b)"
      ]
    },
    {
      "cell_type": "markdown",
      "metadata": {
        "id": "zr9EG598lASg"
      },
      "source": [
        "### Enumerate\n",
        "\n",
        "To find out the index of the item in the loop we can use list.index(elem), but there is another way to do this using enumerate().\n"
      ]
    },
    {
      "cell_type": "code",
      "execution_count": 91,
      "metadata": {
        "colab": {
          "base_uri": "https://localhost:8080/"
        },
        "collapsed": true,
        "id": "DvErgBfNlASg",
        "outputId": "637b63f1-8ea7-4fd1-f3eb-51c4c3442ccf"
      },
      "outputs": [
        {
          "name": "stdout",
          "output_type": "stream",
          "text": [
            "Index of happy is: 0\n",
            "Index of sad is: 1\n",
            "Index of angry is: 2\n",
            "[(0, 'happy'), (1, 'sad'), (2, 'angry')]\n",
            "0 happy\n",
            "1 sad\n",
            "2 angry\n"
          ]
        }
      ],
      "source": [
        "my_list = ['happy', 'sad', 'angry']\n",
        "\n",
        "index_counter = 0\n",
        "for entry in my_list:\n",
        "    print(\"Index of %s is: %s\" %(entry, index_counter))\n",
        "    index_counter += 1\n",
        "\n",
        "# Here we use another built-in function list([iterable]) \n",
        "# which returns a list whose items are the same and\n",
        "# in the same order as iterable‘s items).\n",
        "\n",
        "print(list(enumerate(my_list)))\n",
        "\n",
        "for i, element in enumerate(my_list):\n",
        "    print(i, element)"
      ]
    },
    {
      "cell_type": "code",
      "execution_count": 92,
      "metadata": {
        "colab": {
          "base_uri": "https://localhost:8080/"
        },
        "collapsed": true,
        "id": "t_V0_IjylASl",
        "outputId": "203bb7d5-766c-42f8-9109-a5bfe73f0341"
      },
      "outputs": [
        {
          "name": "stdout",
          "output_type": "stream",
          "text": [
            "1 ['happy', 'sad', 'angry']\n",
            "2 ['happy', 'sad', 'angry']\n",
            "3 ['happy', 'sad', 'angry']\n"
          ]
        }
      ],
      "source": [
        "# We may easily change the start count/index with help of enumerate(sequence, start=0)\n",
        "for index, item in enumerate(my_list, start = 1):\n",
        "    print(index, my_list)"
      ]
    },
    {
      "cell_type": "markdown",
      "metadata": {
        "id": "9h9Wg_ellASm"
      },
      "source": [
        "### Range\n",
        "\n",
        "The range(n) function yields the numbers 0, 1, ... n-1, and range(a, b) returns a, a+1, ... b-1 -- up to but not including the last number. "
      ]
    },
    {
      "cell_type": "code",
      "execution_count": 95,
      "metadata": {
        "colab": {
          "base_uri": "https://localhost:8080/"
        },
        "collapsed": true,
        "id": "ipTYgx6QlASm",
        "outputId": "52118953-61ea-462a-bc66-66021b1e0bd6"
      },
      "outputs": [
        {
          "name": "stdout",
          "output_type": "stream",
          "text": [
            "[100, 101, 102, 103, 104, 105, 106, 107, 108, 109]\n",
            "[0, 1, 2, 3, 4]\n",
            "0\n",
            "1\n",
            "2\n",
            "3\n",
            "4\n",
            "\n",
            "1\n",
            "4\n",
            "9\n",
            "16\n",
            "25\n",
            "\n",
            "1\n",
            "4\n",
            "9\n",
            "16\n",
            "25\n"
          ]
        }
      ],
      "source": [
        "square =[1,4,9,16,25]\n",
        "\n",
        "a = list(range(100, 110))\n",
        "print(a)\n",
        "\n",
        "b = list(range(5))\n",
        "print(b)\n",
        "\n",
        "for i in range(5):\n",
        "    print(i)\n",
        "    \n",
        "print()\n",
        "for i in range(len(squares)):\n",
        "    print(squares[i])\n",
        "    \n",
        "print()\n",
        "    \n",
        "for square in squares:\n",
        "    print(square)\n"
      ]
    },
    {
      "cell_type": "code",
      "execution_count": null,
      "metadata": {
        "collapsed": true,
        "id": "rvNG2K4rlASm"
      },
      "outputs": [],
      "source": [
        "# Write a function program to print a specified list\n",
        "# after removing the 0th, 3rd and 4th items\n",
        "\n",
        "my_list= ['Red', 'Green', 'White', 'Black', 'Pink', 'Yellow']\n",
        "\n",
        "def remove_list(list1):\n",
        "   ##your code here##\n",
        "\n",
        "remove_list(my_list)"
      ]
    },
    {
      "cell_type": "markdown",
      "metadata": {
        "id": "xo9f3_7plASm"
      },
      "source": [
        "## Lambda\n",
        "\n",
        "Python supports the creation of anonymous functions (i.e. functions that are not bound to a name) at runtime, using a construct called \"lambda\".\n",
        "\n",
        "Normal python function:\n",
        "```python\n",
        "def f (x):\n",
        "    return x**2\n",
        "\n",
        "f(8)\n",
        "```\n",
        "while for lambda:\n",
        "\n",
        "```python\n",
        "g = lambda x: x**2\n",
        "print(g(8))\n",
        "```\n",
        "Lambda functions are mainly used in combination with the functions filter() and map()."
      ]
    },
    {
      "cell_type": "code",
      "execution_count": 104,
      "metadata": {
        "colab": {
          "base_uri": "https://localhost:8080/"
        },
        "collapsed": true,
        "id": "HWfEOZvllASm",
        "outputId": "2373d52d-0231-495f-b242-0308c2e4ce91"
      },
      "outputs": [
        {
          "data": {
            "text/plain": [
              "5"
            ]
          },
          "execution_count": 104,
          "metadata": {},
          "output_type": "execute_result"
        }
      ],
      "source": [
        "f = lambda x, y : x + y\n",
        "\n",
        "f(2,3)"
      ]
    },
    {
      "cell_type": "code",
      "execution_count": 108,
      "metadata": {
        "colab": {
          "base_uri": "https://localhost:8080/"
        },
        "collapsed": true,
        "id": "kvm14dnvlASm",
        "outputId": "a6b0d5ae-b4eb-48f8-bc34-7a0f8927528b"
      },
      "outputs": [
        {
          "name": "stdout",
          "output_type": "stream",
          "text": [
            "2\n",
            "2\n",
            "7\n",
            "4\n",
            "3\n",
            "4\n",
            "[2, 2, 7, 4, 3, 4]\n",
            "[4, 9, 25, 36, 49, 64]\n",
            "[2, 6, 8]\n"
          ]
        }
      ],
      "source": [
        "#lambda examples\n",
        "\n",
        "# example 1\n",
        "sentence = 'It is raining cats and dogs'\n",
        "\n",
        "word=sentence.split()\n",
        "# print(word)\n",
        "for i in word: \n",
        "    count=len(i)\n",
        "    print(count)\n",
        "\n",
        "g=map(lambda num: len(num), word)\n",
        "print(list(g))\n",
        "\n",
        "# example 2\n",
        "a = [2,3,5,6,7,8]\n",
        "\n",
        "def power(a):\n",
        "    return a**2\n",
        "\n",
        "# map()\n",
        "h = map(lambda num1: power(num1), a)\n",
        "print(list(h))\n",
        "\n",
        "# filter ()\n",
        "h=filter(lambda num1: num1%2==0, a)\n",
        "print(list(h))\n",
        "\n"
      ]
    },
    {
      "cell_type": "markdown",
      "metadata": {
        "id": "jJVNafEKlASm"
      },
      "source": [
        "### List Comprehensions\n",
        "\n",
        "A list comprehension is a compact expression to define a whole set.  It can be used to construct lists in a very natural, easy way, like a mathematician is used to do. \n",
        "\n",
        "The following comprehension says \"For each item in numbers, square it and add it to a new list squares.\"\n",
        "\n",
        "While we could also do this using a for-loop, it's often more convenient to use a list comprehension.\n",
        "\n",
        "```python\n",
        "for element in iterable:\n",
        "     if condition(element): \n",
        "        output.append(expression(element))\n",
        "```\n",
        "\n",
        "The same gets implemented in a simple LC construct in a single line as:\n",
        "```python\n",
        "[ expression(element) for element in iterable if condition(element) ]\n",
        "```\n"
      ]
    },
    {
      "cell_type": "code",
      "execution_count": 109,
      "metadata": {
        "colab": {
          "base_uri": "https://localhost:8080/"
        },
        "collapsed": true,
        "id": "ri8hYU8SlASn",
        "outputId": "033c7c81-f1b6-4b81-edbb-4ce2098fef1d"
      },
      "outputs": [
        {
          "name": "stdout",
          "output_type": "stream",
          "text": [
            "[1, 4, 9, 16, 25, 36, 49, 64]\n",
            "[1, 4, 9, 16, 25, 36, 49, 64]\n"
          ]
        }
      ],
      "source": [
        "# without list comprehension\n",
        "numbers = [1, 2, 3, 4, 5, 6, 7, 8]\n",
        "\n",
        "squares = []\n",
        "for n in numbers:\n",
        "    squares.append(n*n)\n",
        "print(squares)\n",
        "\n",
        "# with list comprehension\n",
        "squares = [n*n for n in numbers]\n",
        "print(squares)"
      ]
    },
    {
      "cell_type": "code",
      "execution_count": 110,
      "metadata": {
        "colab": {
          "base_uri": "https://localhost:8080/"
        },
        "collapsed": true,
        "id": "weYGrnlKlASn",
        "outputId": "d738063f-d6bb-4143-dea6-952a1ba2c7f5"
      },
      "outputs": [
        {
          "name": "stdout",
          "output_type": "stream",
          "text": [
            "[1, 4, 9, 16, 25]\n"
          ]
        }
      ],
      "source": [
        "numbers = [1, 2, 3, 4, 5, 6, 7, 8]\n",
        "\n",
        "squaresUnderFive = [n*n for n in numbers if n <= 5]\n",
        "\n",
        "print(squaresUnderFive)"
      ]
    },
    {
      "cell_type": "code",
      "execution_count": 111,
      "metadata": {
        "colab": {
          "base_uri": "https://localhost:8080/"
        },
        "collapsed": true,
        "id": "s-8ENcQtlASn",
        "outputId": "84417348-3252-40ab-d7a4-5e5404e7683d"
      },
      "outputs": [
        {
          "name": "stdout",
          "output_type": "stream",
          "text": [
            "[32, 50]\n"
          ]
        }
      ],
      "source": [
        "print([s*2 for s in squaresUnderFive if s > 10])"
      ]
    },
    {
      "cell_type": "code",
      "execution_count": 112,
      "metadata": {
        "colab": {
          "base_uri": "https://localhost:8080/"
        },
        "collapsed": true,
        "id": "ujMlo-T8lASn",
        "outputId": "4833c5b8-55a0-4d67-9540-951a6b496881"
      },
      "outputs": [
        {
          "name": "stdout",
          "output_type": "stream",
          "text": [
            "['BANANA!!!', 'APPLE!!!', 'MANGO!!!']\n"
          ]
        }
      ],
      "source": [
        "# An example of a list comprehension with strings\n",
        "fruits = ['banana', 'apple', 'cherry', 'lime', 'mango']\n",
        "\n",
        "my_list = [s.upper() + '!!!' for s in fruits if 'a' in s]\n",
        "\n",
        "print(my_list)"
      ]
    },
    {
      "cell_type": "markdown",
      "metadata": {
        "id": "ymUA1KTPlASn"
      },
      "source": [
        "### Exercise\n",
        "Write one line of Python that takes this list a and makes a new list that has only the odd  elements and power it with 3"
      ]
    },
    {
      "cell_type": "code",
      "execution_count": 27,
      "metadata": {
        "colab": {
          "base_uri": "https://localhost:8080/"
        },
        "collapsed": true,
        "id": "UCMxZpDnlASn",
        "outputId": "a9f2958c-0e5b-49d2-950b-c8c97cb4c3b2"
      },
      "outputs": [
        {
          "name": "stdout",
          "output_type": "stream",
          "text": [
            "[1, 729, 15625, 117649, 531441]\n"
          ]
        }
      ],
      "source": [
        "# Write one line of Python that takes this list a\n",
        "# and makes a new list that has only the odd \n",
        "# elements and power it with 3\n",
        "\n",
        "a = [1, 4, 9, 16, 25, 36, 49, 64, 81, 100]\n",
        "b = [x**3 for x in a if x %2 != 0]\n",
        "print(b)"
      ]
    },
    {
      "cell_type": "markdown",
      "metadata": {
        "id": "MUyl8bvklASn"
      },
      "source": [
        "### Del\n",
        "\n",
        "The \"del\" operator does deletions. In the simplest case, it can remove the definition of a variable, as if that variable had not been defined. Del can also be used on list elements or slices to delete that part of the list and to delete entries from a dictionary."
      ]
    },
    {
      "cell_type": "code",
      "execution_count": 114,
      "metadata": {
        "colab": {
          "base_uri": "https://localhost:8080/"
        },
        "collapsed": true,
        "id": "Q8ofezMnlASn",
        "outputId": "5e897813-aa61-4a95-cfee-faf1e48725a0"
      },
      "outputs": [
        {
          "name": "stdout",
          "output_type": "stream",
          "text": [
            "['b']\n"
          ]
        }
      ],
      "source": [
        "var = 6\n",
        "del var  # var no more!\n",
        "\n",
        "my_list = ['a', 'b', 'c', 'd']\n",
        "del my_list[0]     ## Delete first element\n",
        "del my_list[-2:]   ## Delete last two elements\n",
        "print(my_list)      ## ['b']"
      ]
    },
    {
      "cell_type": "markdown",
      "metadata": {
        "id": "zUQqyejulASn"
      },
      "source": [
        "## Tuples\n",
        "\n",
        "A tuple is a fixed size grouping of elements, such as an (x, y) co-ordinate. Tuples are like lists, except they are immutable and do not change size (tuples are not strictly immutable since one of the contained elements could be mutable). Tuples are a convenient way to pass around a little logical, fixed size bundle of values. A function that needs to return multiple values can just return a tuple of the values."
      ]
    },
    {
      "cell_type": "code",
      "execution_count": 115,
      "metadata": {
        "colab": {
          "base_uri": "https://localhost:8080/"
        },
        "collapsed": true,
        "id": "-ypmuvshlASo",
        "outputId": "4ff87d2a-4b45-4d68-ab29-1c019314067a"
      },
      "outputs": [
        {
          "name": "stdout",
          "output_type": "stream",
          "text": [
            "<class 'tuple'>\n",
            "4\n",
            "hi\n",
            "('hike', 13)\n"
          ]
        }
      ],
      "source": [
        "tup = (1, 2.3, 'hi', ['hi'])\n",
        "print(type(tup))\n",
        "print((len(tup)))\n",
        "\n",
        "print((tup[2]))\n",
        "\n",
        "#tup[2] = 'bye' # tuple element cannot be changed\n",
        "tup = (1, 2, 'bye')\n",
        "\n",
        "x,y,z = (42, 13, \"hike\")\n",
        "\n",
        "list2 = [1,2,3]\n",
        "\n",
        "print((z, y))"
      ]
    }
  ],
  "metadata": {
    "anaconda-cloud": {},
    "colab": {
      "collapsed_sections": [
        "Iv97-grklASd",
        "50XIJf5alASd",
        "zr9EG598lASg",
        "9h9Wg_ellASm",
        "jJVNafEKlASm",
        "ymUA1KTPlASn",
        "MUyl8bvklASn"
      ],
      "provenance": []
    },
    "kernelspec": {
      "display_name": "venv",
      "language": "python",
      "name": "venv"
    },
    "language_info": {
      "codemirror_mode": {
        "name": "ipython",
        "version": 3
      },
      "file_extension": ".py",
      "mimetype": "text/x-python",
      "name": "python",
      "nbconvert_exporter": "python",
      "pygments_lexer": "ipython3",
      "version": "3.10.11"
    }
  },
  "nbformat": 4,
  "nbformat_minor": 0
}
